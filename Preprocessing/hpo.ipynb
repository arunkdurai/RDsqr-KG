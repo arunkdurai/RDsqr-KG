{
 "cells": [
  {
   "cell_type": "markdown",
   "metadata": {},
   "source": [
    "Extracting Gene Disease and Gene Phenotype Data"
   ]
  },
  {
   "cell_type": "code",
   "execution_count": 1,
   "metadata": {},
   "outputs": [],
   "source": [
    "import pandas as pd"
   ]
  },
  {
   "cell_type": "code",
   "execution_count": null,
   "metadata": {},
   "outputs": [],
   "source": [
    "df_gene_disease = pd.read_csv(r\"...path_to\\RDsqr-KG\\Datasets\\HPO\\genes_to_disease.txt\", sep='\\t')\n",
    "df_gene_phenotype = pd.read_csv(r\"...path_to\\RDsqr-KG\\Datasets\\HPO\\genes_to_phenotype.txt\", sep='\\t')\n"
   ]
  },
  {
   "cell_type": "markdown",
   "metadata": {},
   "source": [
    "Gene Disease"
   ]
  },
  {
   "cell_type": "code",
   "execution_count": 3,
   "metadata": {},
   "outputs": [],
   "source": [
    "df_gene_disease = df_gene_disease.drop(columns=['source', 'association_type'])"
   ]
  },
  {
   "cell_type": "code",
   "execution_count": 4,
   "metadata": {},
   "outputs": [],
   "source": [
    "df_gene_disease['ncbi_gene_id'] = df_gene_disease['ncbi_gene_id'].str.replace('NCBIGene:', '')"
   ]
  },
  {
   "cell_type": "code",
   "execution_count": 5,
   "metadata": {},
   "outputs": [],
   "source": [
    "df_omim_gd = df_gene_disease[df_gene_disease['disease_id'].str.contains('OMIM')].copy()\n",
    "df_omim_gd['disease_id'] = df_omim_gd['disease_id'].str.replace('OMIM:', '')\n",
    "df_omim_gd = df_omim_gd.rename(columns={'disease_id': 'OMIM_disease_id'})"
   ]
  },
  {
   "cell_type": "code",
   "execution_count": 6,
   "metadata": {},
   "outputs": [],
   "source": [
    "df_orpha_gd = df_gene_disease[df_gene_disease['disease_id'].str.contains('ORPHA')].copy()\n",
    "df_orpha_gd['disease_id'] = df_orpha_gd['disease_id'].str.replace('ORPHA:', '')\n",
    "df_orpha_gd = df_orpha_gd.rename(columns={'disease_id': 'ORPHA_disease_id'})"
   ]
  },
  {
   "cell_type": "code",
   "execution_count": 16,
   "metadata": {},
   "outputs": [
    {
     "data": {
      "text/plain": [
       "(7327, 3)"
      ]
     },
     "execution_count": 16,
     "metadata": {},
     "output_type": "execute_result"
    }
   ],
   "source": [
    "df_omim_gd.shape"
   ]
  },
  {
   "cell_type": "code",
   "execution_count": 17,
   "metadata": {},
   "outputs": [
    {
     "data": {
      "text/plain": [
       "(8264, 3)"
      ]
     },
     "execution_count": 17,
     "metadata": {},
     "output_type": "execute_result"
    }
   ],
   "source": [
    "df_orpha_gd.shape"
   ]
  },
  {
   "cell_type": "code",
   "execution_count": null,
   "metadata": {},
   "outputs": [],
   "source": [
    "df_omim_gd.to_csv(r\"...path_to\\RDsqr-KG\\Preprocessed_datasets\\genes_to_disease_omim_hpo.csv\", index=False)\n",
    "df_orpha_gd.to_csv(r\"...path_to\\RDsqr-KG\\Preprocessed_datasets\\genes_to_disease_orpha_hpo.csv\", index=False)"
   ]
  },
  {
   "cell_type": "markdown",
   "metadata": {},
   "source": [
    "Gene Phenotype"
   ]
  },
  {
   "cell_type": "code",
   "execution_count": 8,
   "metadata": {},
   "outputs": [],
   "source": [
    "df_gene_phenotype = df_gene_phenotype.drop(columns=['frequency'])"
   ]
  },
  {
   "cell_type": "code",
   "execution_count": 9,
   "metadata": {},
   "outputs": [],
   "source": [
    "df_gene_phenotype['hpo_id'] = df_gene_phenotype['hpo_id'].str.replace('HP:','')"
   ]
  },
  {
   "cell_type": "code",
   "execution_count": 11,
   "metadata": {},
   "outputs": [],
   "source": [
    "df_omim_gp = df_gene_phenotype[df_gene_phenotype['disease_id'].str.contains('OMIM')].copy()\n",
    "df_omim_gp['disease_id'] = df_omim_gp['disease_id'].str.replace('OMIM:', '')\n",
    "df_omim_gp = df_omim_gp.rename(columns={'disease_id': 'OMIM_disease_id'})"
   ]
  },
  {
   "cell_type": "code",
   "execution_count": 12,
   "metadata": {},
   "outputs": [],
   "source": [
    "df_orpha_gp = df_gene_phenotype[df_gene_phenotype['disease_id'].str.contains('ORPHA')].copy()\n",
    "df_orpha_gp['disease_id'] = df_orpha_gp['disease_id'].str.replace('ORPHA:', '')\n",
    "df_orpha_gp = df_orpha_gp.rename(columns={'disease_id': 'ORPHA_disease_id'})"
   ]
  },
  {
   "cell_type": "code",
   "execution_count": 14,
   "metadata": {},
   "outputs": [
    {
     "data": {
      "text/plain": [
       "(137409, 5)"
      ]
     },
     "execution_count": 14,
     "metadata": {},
     "output_type": "execute_result"
    }
   ],
   "source": [
    "df_omim_gp.shape"
   ]
  },
  {
   "cell_type": "code",
   "execution_count": 15,
   "metadata": {},
   "outputs": [
    {
     "data": {
      "text/plain": [
       "(167231, 5)"
      ]
     },
     "execution_count": 15,
     "metadata": {},
     "output_type": "execute_result"
    }
   ],
   "source": [
    "df_orpha_gp.shape"
   ]
  },
  {
   "cell_type": "code",
   "execution_count": null,
   "metadata": {},
   "outputs": [],
   "source": [
    "df_omim_gp.to_csv(r\"...path_to\\RDsqr-KG\\Preprocessed_datasets\\genes_to_phenotype_omim_hpo.csv\", index=False)\n",
    "df_orpha_gp.to_csv(r\"...path_to\\RDsqr-KG\\Preprocessed_datasets\\genes_to_phenotype_orpha_hpo.csv\", index=False)"
   ]
  },
  {
   "cell_type": "code",
   "execution_count": null,
   "metadata": {},
   "outputs": [],
   "source": []
  }
 ],
 "metadata": {
  "kernelspec": {
   "display_name": "base",
   "language": "python",
   "name": "python3"
  },
  "language_info": {
   "codemirror_mode": {
    "name": "ipython",
    "version": 3
   },
   "file_extension": ".py",
   "mimetype": "text/x-python",
   "name": "python",
   "nbconvert_exporter": "python",
   "pygments_lexer": "ipython3",
   "version": "3.12.4"
  }
 },
 "nbformat": 4,
 "nbformat_minor": 2
}
