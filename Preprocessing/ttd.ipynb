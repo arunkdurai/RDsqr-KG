{
 "cells": [
  {
   "cell_type": "code",
   "execution_count": 1,
   "metadata": {},
   "outputs": [],
   "source": [
    "import csv\n",
    "import os\n",
    "import re"
   ]
  },
  {
   "cell_type": "markdown",
   "metadata": {},
   "source": [
    "Drug-Disease Pairs"
   ]
  },
  {
   "cell_type": "code",
   "execution_count": null,
   "metadata": {},
   "outputs": [],
   "source": [
    "input_file = r\"...path_to\\RDsqr-KG\\Datasets\\TTD\\P1-05-Drug_disease.txt\"\n",
    "output_file = r\"...path_to\\RDsqr-KG\\Preprocessed_datasets\\drug_disease_ttd.csv\""
   ]
  },
  {
   "cell_type": "code",
   "execution_count": 3,
   "metadata": {},
   "outputs": [],
   "source": [
    "data = []\n",
    "current_ttd_id = None\n",
    "current_drug_name = None\n",
    "line_count = 0 "
   ]
  },
  {
   "cell_type": "code",
   "execution_count": 4,
   "metadata": {},
   "outputs": [],
   "source": [
    "with open(input_file, 'r', encoding='utf-8') as file:\n",
    "    for line in file:\n",
    "        line = line.strip()\n",
    "        \n",
    "        #Detect new drug-disease groups separated by blank lines\n",
    "        if line == \"\":\n",
    "            current_ttd_id = None\n",
    "            current_drug_name = None\n",
    "            continue\n",
    "\n",
    "        #Extract TTD-ID\n",
    "        if line.startswith(\"TTDDRUID\"):\n",
    "            current_ttd_id = line.split('\\t')[1].strip()\n",
    "        \n",
    "        #Extract Drug Name\n",
    "        elif line.startswith(\"DRUGNAME\"):\n",
    "            current_drug_name = line.split('\\t')[1].strip()\n",
    "        \n",
    "        #Extract Indication (Disease Name), ICD Code, and Status\n",
    "        elif line.startswith(\"INDICATI\"):\n",
    "            parts = line.split('\\t')\n",
    "            if len(parts) >= 4:  #Check if all expected parts are present\n",
    "                disease_name = parts[1].strip()\n",
    "                icd_code = parts[2].replace(\"ICD-11:\", \"\").strip()\n",
    "                status = parts[3].strip()\n",
    "                \n",
    "                #Append extracted data to the list\n",
    "                data.append([current_ttd_id, current_drug_name, disease_name, icd_code, status])"
   ]
  },
  {
   "cell_type": "code",
   "execution_count": 5,
   "metadata": {},
   "outputs": [],
   "source": [
    "with open(output_file, 'w', newline='', encoding='utf-8') as csvfile:\n",
    "    csv_writer = csv.writer(csvfile)\n",
    "    csv_writer.writerow(['TTD_ID', 'drug_name', 'disease_name', 'ICD_11', 'status'])  # Header\n",
    "    csv_writer.writerows(data[1:])"
   ]
  },
  {
   "cell_type": "markdown",
   "metadata": {},
   "source": [
    "Drug Crosslinks"
   ]
  },
  {
   "cell_type": "code",
   "execution_count": null,
   "metadata": {},
   "outputs": [],
   "source": [
    "input_file2 = r\"...path_to\\RDsqr-KG\\Datasets\\TTD\\P1-03-TTD_crossmatching.txt\"\n",
    "output_file2 = r\"...path_to\\RDsqr-KG\\Preprocessed_datasets\\drug_crosslinks_ttd.csv\""
   ]
  },
  {
   "cell_type": "code",
   "execution_count": 11,
   "metadata": {},
   "outputs": [],
   "source": [
    "with open(input_file2, 'r') as infile, open(output_file2, 'w', newline='') as csvfile:\n",
    "    \n",
    "    fieldnames = ['TTD_ID', 'drug_name', 'cas_id']\n",
    "    writer = csv.DictWriter(csvfile, fieldnames=fieldnames)\n",
    "    writer.writeheader()\n",
    "    \n",
    "    #Initialize variables to store current TTD_ID, drug_name, and cas_id\n",
    "    current_id = None\n",
    "    current_name = None\n",
    "    current_cas = None\n",
    "    \n",
    "    # Process each line in the input file\n",
    "    for line in infile:\n",
    "        # Check for TTD_ID (TTDDRUID)\n",
    "        if line.startswith(\"D\") and \"TTDDRUID\" in line:\n",
    "            current_id = line.split()[2]\n",
    "        \n",
    "        # Check for drug name (DRUGNAME)\n",
    "        elif \"DRUGNAME\" in line:\n",
    "            current_name = line.split(\"\\t\")[-1].strip()\n",
    "        \n",
    "        # Check for CAS number (CASNUMBE) and remove 'CAS ' prefix\n",
    "        elif \"CASNUMBE\" in line:\n",
    "            current_cas = re.sub(r'^CAS ', '', line.split(\"\\t\")[-1].strip())\n",
    "            \n",
    "            # Write row to CSV if all fields are populated\n",
    "            if current_id and current_name and current_cas:\n",
    "                writer.writerow({'TTD_ID': current_id, 'drug_name': current_name, 'cas_id': current_cas})\n",
    "                \n",
    "                # Reset fields for the next entry\n",
    "                current_id, current_name, current_cas = None, None, None\n"
   ]
  },
  {
   "cell_type": "code",
   "execution_count": null,
   "metadata": {},
   "outputs": [],
   "source": []
  }
 ],
 "metadata": {
  "kernelspec": {
   "display_name": "base",
   "language": "python",
   "name": "python3"
  },
  "language_info": {
   "codemirror_mode": {
    "name": "ipython",
    "version": 3
   },
   "file_extension": ".py",
   "mimetype": "text/x-python",
   "name": "python",
   "nbconvert_exporter": "python",
   "pygments_lexer": "ipython3",
   "version": "3.12.4"
  }
 },
 "nbformat": 4,
 "nbformat_minor": 2
}
