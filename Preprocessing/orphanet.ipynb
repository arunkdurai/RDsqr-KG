{
 "cells": [
  {
   "cell_type": "code",
   "execution_count": 1,
   "metadata": {},
   "outputs": [],
   "source": [
    "import pandas as pd\n",
    "from bs4 import BeautifulSoup "
   ]
  },
  {
   "cell_type": "code",
   "execution_count": null,
   "metadata": {},
   "outputs": [
    {
     "name": "stderr",
     "output_type": "stream",
     "text": [
      "<>:3: SyntaxWarning: invalid escape sequence '\\O'\n",
      "<>:3: SyntaxWarning: invalid escape sequence '\\O'\n",
      "C:\\Users\\Arun\\AppData\\Local\\Temp\\ipykernel_28808\\1938198200.py:3: SyntaxWarning: invalid escape sequence '\\O'\n",
      "  \"\"\"\n"
     ]
    },
    {
     "data": {
      "text/plain": [
       "'\\nwith open(r\"...path_to\\\\Orphanet\\\\en_product4.xml\", \"r\", encoding=\"ISO-8859-1\") as file:\\n    soup2 = BeautifulSoup(file, \"xml\")  #disease_phenotype\\n\\nwith open(r\"...path_to\\\\Orphanet\\\\en_product6.xml\", \"r\", encoding=\"ISO-8859-1\") as file:\\n    soup3 = BeautifulSoup(file, \"xml\")  #disease_gene'"
      ]
     },
     "execution_count": 2,
     "metadata": {},
     "output_type": "execute_result"
    }
   ],
   "source": [
    "with open(r\"...path_to\\RDsqr-KG\\Datasets\\Orphanet\\en_product1.xml\", \"r\", encoding=\"ISO-8859-1\") as file:\n",
    "    soup1 = BeautifulSoup(file, \"xml\")  #disease_vocabulary\n",
    "\n",
    "with open(r\"...path_to\\RDsqr-KG\\Datasets\\Orphanet\\en_product4.xml\", \"r\", encoding=\"ISO-8859-1\") as file:\n",
    "    soup2 = BeautifulSoup(file, \"xml\")  #disease_phenotype\n",
    "\n",
    "with open(r\"...path_to\\RDsqr-KG\\Datasets\\Orphanet\\en_product6.xml\", \"r\", encoding=\"ISO-8859-1\") as file:\n",
    "    soup3 = BeautifulSoup(file, \"xml\")  #disease_gene"
   ]
  },
  {
   "cell_type": "code",
   "execution_count": 3,
   "metadata": {},
   "outputs": [],
   "source": [
    "disease_vocabulary = []\n",
    "disease_phenotype = []\n",
    "disease_gene = []"
   ]
  },
  {
   "cell_type": "code",
   "execution_count": 4,
   "metadata": {},
   "outputs": [],
   "source": [
    "for disorder in soup1.find_all(\"Disorder\"):\n",
    "            disorder_code = disorder.find(\"OrphaCode\").text if disorder.find(\"OrphaCode\") else \"N/A\"\n",
    "            disorder_name = disorder.find(\"Name\").text if disorder.find(\"Name\") else \"N/A\"\n",
    "\n",
    "            external_references = {}\n",
    "            external_reference_list = disorder.find(\"ExternalReferenceList\")\n",
    "            if external_reference_list:\n",
    "                for reference in external_reference_list.find_all(\"ExternalReference\"):\n",
    "                    source = reference.find(\"Source\").text if reference.find(\"Source\") else \"N/A\"\n",
    "                    ref = reference.find(\"Reference\").text if reference.find(\"Reference\") else \"N/A\"\n",
    "                    external_references[source] = ref\n",
    "\n",
    "            disease_vocabulary.append((disorder_code, disorder_name, external_references))"
   ]
  },
  {
   "cell_type": "code",
   "execution_count": 5,
   "metadata": {},
   "outputs": [],
   "source": [
    "df_disease_vocab = pd.DataFrame(disease_vocabulary, columns=['OrphaCode', 'DisorderName', 'ExternalReferences'])\n",
    "\n",
    "external_disease_ref_df = df_disease_vocab['ExternalReferences'].apply(pd.Series).fillna(\"N/A\") # references into different columns\n",
    "\n",
    "df_disease_vocab = pd.concat([df_disease_vocab.drop(columns=['ExternalReferences']), external_disease_ref_df], axis=1) #add references to dataframe"
   ]
  },
  {
   "cell_type": "code",
   "execution_count": 6,
   "metadata": {},
   "outputs": [],
   "source": [
    "df_disease_vocab['DisorderName'] = df_disease_vocab['DisorderName'].str.replace(r'^NON RARE IN EUROPE:\\s*', '', regex=True).str.strip()\n",
    "df_disease_vocab = df_disease_vocab[~df_disease_vocab['DisorderName'].str.startswith('OBSOLETE')]"
   ]
  },
  {
   "cell_type": "code",
   "execution_count": 9,
   "metadata": {},
   "outputs": [],
   "source": [
    "for hpo_set_status in soup2.find_all(\"HPODisorderSetStatus\"):\n",
    "            disorder = hpo_set_status.find(\"Disorder\")\n",
    "            disorder_code = disorder.find(\"OrphaCode\").text\n",
    "            disorder_name = disorder.find(\"Name\").text\n",
    "\n",
    "            for association in hpo_set_status.find_all(\"HPODisorderAssociation\"):\n",
    "                hpo_id = association.find(\"HPOId\").text\n",
    "                hpo_term = association.find(\"HPOTerm\").text\n",
    "\n",
    "                disease_phenotype.append((disorder_code, disorder_name, hpo_id, hpo_term))"
   ]
  },
  {
   "cell_type": "code",
   "execution_count": 10,
   "metadata": {},
   "outputs": [],
   "source": [
    "df_disease_phenotype = pd.DataFrame(disease_phenotype, columns=['OrphaCode', 'DisorderName', 'HPOId', 'HPOTerm'])"
   ]
  },
  {
   "cell_type": "code",
   "execution_count": 11,
   "metadata": {},
   "outputs": [],
   "source": [
    "for disorder in soup3.find_all(\"Disorder\"):\n",
    "            disorder_code = disorder.find(\"OrphaCode\").text if disorder.find(\"OrphaCode\") else \"N/A\"\n",
    "            disorder_name = disorder.find(\"Name\").text if disorder.find(\"Name\") else \"N/A\"\n",
    "\n",
    "            for association in disorder.find_all(\"DisorderGeneAssociation\"):\n",
    "                gene = association.find(\"Gene\")\n",
    "                gene_name = gene.find(\"Name\").text if gene and gene.find(\"Name\") else \"N/A\"\n",
    "                gene_symbol = gene.find(\"Symbol\").text if gene and gene.find(\"Symbol\") else \"N/A\"\n",
    "\n",
    "                external_references = {}\n",
    "                external_reference_list = association.find(\"ExternalReferenceList\")\n",
    "                if external_reference_list:\n",
    "                    for reference in external_reference_list.find_all(\"ExternalReference\"):\n",
    "                        source = reference.find(\"Source\").text\n",
    "                        ref = reference.find(\"Reference\").text\n",
    "                        external_references[source] = ref\n",
    "\n",
    "                disease_gene.append((disorder_code, disorder_name, gene_name, gene_symbol, external_references))"
   ]
  },
  {
   "cell_type": "code",
   "execution_count": 12,
   "metadata": {},
   "outputs": [],
   "source": [
    "df_disease_gene = pd.DataFrame(disease_gene, columns=['OrphaCode', 'DisorderName', 'GeneName', 'GeneSymbol', 'ExternalReferences'])\n",
    "\n",
    "external_gene_ref_df = df_disease_gene['ExternalReferences'].apply(pd.Series).fillna(\"N/A\") # references into different columns\n",
    "\n",
    "df_disease_gene = pd.concat([df_disease_gene.drop(columns=['ExternalReferences']), external_gene_ref_df], axis=1) #add references to dataframe"
   ]
  },
  {
   "cell_type": "code",
   "execution_count": 7,
   "metadata": {},
   "outputs": [
    {
     "data": {
      "text/plain": [
       "(9946, 9)"
      ]
     },
     "execution_count": 7,
     "metadata": {},
     "output_type": "execute_result"
    }
   ],
   "source": [
    "df_disease_vocab.shape"
   ]
  },
  {
   "cell_type": "code",
   "execution_count": 14,
   "metadata": {},
   "outputs": [
    {
     "data": {
      "text/plain": [
       "(112599, 4)"
      ]
     },
     "execution_count": 14,
     "metadata": {},
     "output_type": "execute_result"
    }
   ],
   "source": [
    "df_disease_phenotype.shape"
   ]
  },
  {
   "cell_type": "code",
   "execution_count": 15,
   "metadata": {},
   "outputs": [
    {
     "data": {
      "text/plain": [
       "(8351, 11)"
      ]
     },
     "execution_count": 15,
     "metadata": {},
     "output_type": "execute_result"
    }
   ],
   "source": [
    "df_disease_gene.shape"
   ]
  },
  {
   "cell_type": "code",
   "execution_count": null,
   "metadata": {},
   "outputs": [],
   "source": [
    "df_disease_vocab.to_csv(r\"...path_to\\RDsqr-KG\\Preprocessed_datasets\\disease_references.csv\", index=False)\n",
    "df_disease_phenotype.to_csv(r\"...path_to\\RDsqr-KG\\Preprocessed_datasets\\disease_phenotype_orphanet.csv\", index=False)\n",
    "df_disease_gene.to_csv(r\"...path_to\\RDsqr-KG\\Preprocessed_datasets\\disease_gene_orphanet.csv\", index=False)"
   ]
  },
  {
   "cell_type": "code",
   "execution_count": null,
   "metadata": {},
   "outputs": [],
   "source": []
  }
 ],
 "metadata": {
  "kernelspec": {
   "display_name": "base",
   "language": "python",
   "name": "python3"
  },
  "language_info": {
   "codemirror_mode": {
    "name": "ipython",
    "version": 3
   },
   "file_extension": ".py",
   "mimetype": "text/x-python",
   "name": "python",
   "nbconvert_exporter": "python",
   "pygments_lexer": "ipython3",
   "version": "3.12.4"
  }
 },
 "nbformat": 4,
 "nbformat_minor": 2
}
