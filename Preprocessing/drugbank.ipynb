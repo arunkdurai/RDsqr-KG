{
 "cells": [
  {
   "cell_type": "markdown",
   "metadata": {},
   "source": [
    "Parsing the DrugBank full database XML file."
   ]
  },
  {
   "cell_type": "code",
   "execution_count": 1,
   "metadata": {},
   "outputs": [],
   "source": [
    "import pandas as pd\n",
    "from bs4 import BeautifulSoup "
   ]
  },
  {
   "cell_type": "code",
   "execution_count": null,
   "metadata": {},
   "outputs": [],
   "source": [
    "soup = BeautifulSoup(open(r\"...path_to\\RDsqr-KG\\Datasets\\DrugBank\\drugbank_all_full_database.xml\\full database.xml\"),\"xml\")"
   ]
  },
  {
   "cell_type": "code",
   "execution_count": 3,
   "metadata": {},
   "outputs": [],
   "source": [
    "#initializing lists to store the drug interactions\n",
    "drug_interaction = []\n",
    "drug_pathway = []\n",
    "drug_atc = []"
   ]
  },
  {
   "cell_type": "code",
   "execution_count": 4,
   "metadata": {},
   "outputs": [],
   "source": [
    "#classify the drugs based on the status - approved, investigational, etc.,\n",
    "drug_status = []"
   ]
  },
  {
   "cell_type": "code",
   "execution_count": null,
   "metadata": {},
   "outputs": [],
   "source": [
    "for drug in soup.find_all(\"drug\"):\n",
    "\n",
    "  drug_id = drug.find(\"drugbank-id\").text\n",
    "  groups = {group.get_text(strip=True).lower() for group in drug.find_all(\"group\")}\n",
    "\n",
    "  is_include = groups.intersection({'approved','investigational'})\n",
    "  is_exclude = groups.intersection({'withdrawn','illicit','nutraceutical','experimental','vet_approved'})\n",
    "\n",
    "  if is_include and not is_exclude:\n",
    "     \n",
    "        drug_status.append({\n",
    "            'drug_name': drug_id,\n",
    "            'include': bool(is_include),\n",
    "            'inclusion_types': ', '.join(is_include) if is_include else 'None' \n",
    "        })\n",
    "        \n",
    "        #Extract drug interactions\n",
    "        interactions = drug.find_all(\"drug-interaction\")\n",
    "        for interaction in interactions:\n",
    "            interaction_id_tag = interaction.find(\"drugbank-id\")\n",
    "            if interaction_id_tag:\n",
    "                interaction_id = interaction_id_tag.get_text(strip=True)\n",
    "                drug_interaction.append((drug_id, interaction_id))\n",
    "        \n",
    "        #Extract drug pathways\n",
    "        pathways = drug.find_all(\"pathway\")\n",
    "        for pathway in pathways:\n",
    "            smpdb_id_tag = pathway.find(\"smpdb-id\")\n",
    "            pathway_name_tag = pathway.find(\"name\")\n",
    "            smpdb_id = smpdb_id_tag.get_text(strip=True) if smpdb_id_tag else 'N/A'\n",
    "            pathway_name = pathway_name_tag.get_text(strip=True) if pathway_name_tag else 'N/A'\n",
    "            drug_pathway.append((drug_id, smpdb_id, pathway_name))\n",
    "        \n",
    "        #Extract drug atc\n",
    "        atc_codes = drug.find_all(\"atc-code\")\n",
    "        for atc in atc_codes:\n",
    "            atc_code = atc.get('code')\n",
    "            if atc_code:\n",
    "                drug_atc.append((drug_id, atc_code))"
   ]
  },
  {
   "cell_type": "code",
   "execution_count": 7,
   "metadata": {},
   "outputs": [],
   "source": [
    "df_ddi = pd.DataFrame(drug_interaction, columns=['drug1_id', 'drug2_id'])\n",
    "df_pathways = pd.DataFrame(drug_pathway, columns=['drugbank_id', 'smpdb_id', 'pathway_name'])\n",
    "df_drug_atc = pd.DataFrame(drug_atc, columns=['drugbank_id', 'atc_code'])\n",
    "df_drug_groups = pd.DataFrame(drug_status)"
   ]
  },
  {
   "cell_type": "code",
   "execution_count": 8,
   "metadata": {},
   "outputs": [
    {
     "data": {
      "text/plain": [
       "(2467, 3)"
      ]
     },
     "execution_count": 8,
     "metadata": {},
     "output_type": "execute_result"
    }
   ],
   "source": [
    "df_pathways.shape"
   ]
  },
  {
   "cell_type": "code",
   "execution_count": 9,
   "metadata": {},
   "outputs": [
    {
     "data": {
      "text/plain": [
       "(2298533, 2)"
      ]
     },
     "execution_count": 9,
     "metadata": {},
     "output_type": "execute_result"
    }
   ],
   "source": [
    "df_ddi.shape"
   ]
  },
  {
   "cell_type": "code",
   "execution_count": 8,
   "metadata": {},
   "outputs": [
    {
     "data": {
      "text/plain": [
       "(4346, 2)"
      ]
     },
     "execution_count": 8,
     "metadata": {},
     "output_type": "execute_result"
    }
   ],
   "source": [
    "df_drug_atc.shape"
   ]
  },
  {
   "cell_type": "code",
   "execution_count": 9,
   "metadata": {},
   "outputs": [
    {
     "data": {
      "text/plain": [
       "(15564, 3)"
      ]
     },
     "execution_count": 9,
     "metadata": {},
     "output_type": "execute_result"
    }
   ],
   "source": [
    "df_drug_groups.shape"
   ]
  },
  {
   "cell_type": "code",
   "execution_count": null,
   "metadata": {},
   "outputs": [],
   "source": [
    "df_pathways.to_csv(r\"...path_to\\RDsqr-KG\\Preprocessed_datasets\\drug_pathway.csv\", index=False)\n",
    "df_ddi.to_csv(r\"...path_to\\RDsqr-KG\\Preprocessed_datasets\\drug_drug.csv\", index=False)\n",
    "df_drug_atc.to_csv(r\"...path_to\\RDsqr-KG\\Preprocessed_datasets\\drug_atc_drugbank.csv\")\n",
    "df_drug_groups.to_csv(r\"...path_to\\RDsqr-KG\\Preprocessed_datasets\\drug_status.csv\", index=False)"
   ]
  },
  {
   "cell_type": "code",
   "execution_count": null,
   "metadata": {},
   "outputs": [],
   "source": []
  }
 ],
 "metadata": {
  "kernelspec": {
   "display_name": "base",
   "language": "python",
   "name": "python3"
  },
  "language_info": {
   "codemirror_mode": {
    "name": "ipython",
    "version": 3
   },
   "file_extension": ".py",
   "mimetype": "text/x-python",
   "name": "python",
   "nbconvert_exporter": "python",
   "pygments_lexer": "ipython3",
   "version": "3.12.4"
  }
 },
 "nbformat": 4,
 "nbformat_minor": 2
}
