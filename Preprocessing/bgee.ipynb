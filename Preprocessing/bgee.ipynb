{
 "cells": [
  {
   "cell_type": "markdown",
   "metadata": {},
   "source": [
    "Extracting Gene Anatomy data from Bgee"
   ]
  },
  {
   "cell_type": "code",
   "execution_count": 1,
   "metadata": {},
   "outputs": [],
   "source": [
    "import csv\n",
    "import pandas as pd"
   ]
  },
  {
   "cell_type": "code",
   "execution_count": null,
   "metadata": {},
   "outputs": [],
   "source": [
    "input_file = r\"...path_to\\RDsqr-KG\\Datasets\\Bgee\\Homo_sapiens_expr_advanced_all_conditions.tsv\"\n",
    "output_file = r\"...path_to\\RDsqr-KG\\Preprocessed_datasets\\bgee.csv\""
   ]
  },
  {
   "cell_type": "code",
   "execution_count": 6,
   "metadata": {},
   "outputs": [],
   "source": [
    "columns_of_interest = [\n",
    "    'Gene ID',\n",
    "    'Gene name',\n",
    "    'Anatomical entity ID',\n",
    "    'Anatomical entity name',\n",
    "    'Developmental stage ID',\n",
    "    'Expression',\n",
    "    'Call quality',\n",
    "    'Expression rank'\n",
    "]"
   ]
  },
  {
   "cell_type": "code",
   "execution_count": 7,
   "metadata": {},
   "outputs": [],
   "source": [
    "with open(input_file, mode='r') as tsv_file:\n",
    "    reader = csv.DictReader(tsv_file, delimiter='\\t')\n",
    "\n",
    "    # Open the CSV file for writing\n",
    "    with open(output_file, mode='w', newline='') as csv_file:\n",
    "        writer = csv.DictWriter(csv_file, fieldnames=columns_of_interest)\n",
    "\n",
    "        # Write the header\n",
    "        writer.writeheader()\n",
    "\n",
    "        # Write rows with selected columns\n",
    "        for row in reader:\n",
    "            filtered_row = {key: row[key] for key in columns_of_interest}\n",
    "            writer.writerow(filtered_row)"
   ]
  },
  {
   "cell_type": "code",
   "execution_count": 8,
   "metadata": {},
   "outputs": [],
   "source": [
    "df = pd.read_csv(output_file)"
   ]
  },
  {
   "cell_type": "code",
   "execution_count": 9,
   "metadata": {},
   "outputs": [],
   "source": [
    "df = df.rename(columns={'Gene ID':'gene_id',\n",
    "                   'Gene name':'gene_name',\n",
    "                   'Anatomical entity ID':'anatomical_entity_id',\n",
    "                   'Anatomical entity name':'anatomyical_entity_name',\n",
    "                   'Expression':'expression',\n",
    "                   'Call quality':'call_quality',\n",
    "                   'Expression rank': 'expression_rank'})"
   ]
  },
  {
   "cell_type": "markdown",
   "metadata": {},
   "source": [
    "Only Calls of gold quality and expression rank less than 10,000 is retrieved "
   ]
  },
  {
   "cell_type": "code",
   "execution_count": 14,
   "metadata": {},
   "outputs": [],
   "source": [
    "df = df.query('call_quality==\"gold quality\"')\n",
    "df = df.query('expression_rank<10000')"
   ]
  },
  {
   "cell_type": "code",
   "execution_count": 15,
   "metadata": {},
   "outputs": [
    {
     "data": {
      "text/plain": [
       "(12755041, 8)"
      ]
     },
     "execution_count": 15,
     "metadata": {},
     "output_type": "execute_result"
    }
   ],
   "source": [
    "df.shape"
   ]
  },
  {
   "cell_type": "code",
   "execution_count": 16,
   "metadata": {},
   "outputs": [],
   "source": [
    "df = df[df.get('anatomical_entity_id').str.startswith('UBERON')]\n",
    "df = df[~df['anatomical_entity_id'].str.contains(\"∩\")]\n",
    "df.loc[:, 'anatomical_entity_id'] = [str(int(x.split(':')[1])) for x in df.get(['anatomical_entity_id']).values.reshape(-1)]"
   ]
  },
  {
   "cell_type": "code",
   "execution_count": null,
   "metadata": {},
   "outputs": [],
   "source": [
    "df.to_csv(r\"...path_to\\RDsqr-KG\\Preprocessed_datasets\\bgee_filtered.csv\")"
   ]
  },
  {
   "cell_type": "code",
   "execution_count": null,
   "metadata": {},
   "outputs": [],
   "source": []
  }
 ],
 "metadata": {
  "kernelspec": {
   "display_name": "base",
   "language": "python",
   "name": "python3"
  },
  "language_info": {
   "codemirror_mode": {
    "name": "ipython",
    "version": 3
   },
   "file_extension": ".py",
   "mimetype": "text/x-python",
   "name": "python",
   "nbconvert_exporter": "python",
   "pygments_lexer": "ipython3",
   "version": "3.12.4"
  }
 },
 "nbformat": 4,
 "nbformat_minor": 2
}
