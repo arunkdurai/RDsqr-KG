{
 "cells": [
  {
   "cell_type": "markdown",
   "metadata": {},
   "source": [
    "mapping protein ID to gene ID using mygene"
   ]
  },
  {
   "cell_type": "code",
   "execution_count": 1,
   "metadata": {},
   "outputs": [],
   "source": [
    "import pandas as pd\n",
    "import mygene"
   ]
  },
  {
   "cell_type": "code",
   "execution_count": null,
   "metadata": {},
   "outputs": [],
   "source": [
    "df_protein_protein = pd.read_csv(r\"...path_to\\RDsqr-KG\\Preprocessed_datasets\\ppi_string.csv\")"
   ]
  },
  {
   "cell_type": "code",
   "execution_count": 4,
   "metadata": {},
   "outputs": [],
   "source": [
    "mg = mygene.MyGeneInfo()"
   ]
  },
  {
   "cell_type": "code",
   "execution_count": 5,
   "metadata": {},
   "outputs": [],
   "source": [
    "#mapping ensp to ensg\n",
    "def map_ensp_to_ensg(ensp_ids):\n",
    "    \n",
    "    result = mg.querymany(ensp_ids, scopes='ensembl.protein', fields='ensembl.gene', species='human')\n",
    "    \n",
    "    \n",
    "    ensp_to_ensg = {}\n",
    "    for entry in result:\n",
    "        if 'ensembl' in entry and 'gene' in entry['ensembl']:\n",
    "            ensp_to_ensg[entry['query']] = entry['ensembl']['gene']\n",
    "        else:\n",
    "            ensp_to_ensg[entry['query']] = None  \n",
    "    \n",
    "    return ensp_to_ensg"
   ]
  },
  {
   "cell_type": "code",
   "execution_count": 7,
   "metadata": {},
   "outputs": [],
   "source": [
    "unique_ensp_ids = pd.concat([df_protein_protein['protein1'], df_protein_protein['protein2']]).unique()"
   ]
  },
  {
   "cell_type": "code",
   "execution_count": 8,
   "metadata": {},
   "outputs": [
    {
     "name": "stderr",
     "output_type": "stream",
     "text": [
      "419 input query terms found no hit:\t['ENSP00000053469', 'ENSP00000074304', 'ENSP00000155858', 'ENSP00000224807', 'ENSP00000224862', 'ENS\n"
     ]
    }
   ],
   "source": [
    "ensp_to_ensg_mapping = map_ensp_to_ensg(unique_ensp_ids)"
   ]
  },
  {
   "cell_type": "code",
   "execution_count": 9,
   "metadata": {},
   "outputs": [],
   "source": [
    "df_protein_protein['protein1_mapped'] = df_protein_protein['protein1'].map(ensp_to_ensg_mapping)\n",
    "df_protein_protein['protein2_mapped'] = df_protein_protein['protein2'].map(ensp_to_ensg_mapping)"
   ]
  },
  {
   "cell_type": "code",
   "execution_count": 10,
   "metadata": {},
   "outputs": [
    {
     "data": {
      "text/html": [
       "<div>\n",
       "<style scoped>\n",
       "    .dataframe tbody tr th:only-of-type {\n",
       "        vertical-align: middle;\n",
       "    }\n",
       "\n",
       "    .dataframe tbody tr th {\n",
       "        vertical-align: top;\n",
       "    }\n",
       "\n",
       "    .dataframe thead th {\n",
       "        text-align: right;\n",
       "    }\n",
       "</style>\n",
       "<table border=\"1\" class=\"dataframe\">\n",
       "  <thead>\n",
       "    <tr style=\"text-align: right;\">\n",
       "      <th></th>\n",
       "      <th>protein1</th>\n",
       "      <th>protein2</th>\n",
       "      <th>protein1_mapped</th>\n",
       "      <th>protein2_mapped</th>\n",
       "    </tr>\n",
       "  </thead>\n",
       "  <tbody>\n",
       "    <tr>\n",
       "      <th>0</th>\n",
       "      <td>ENSP00000000233</td>\n",
       "      <td>ENSP00000493357</td>\n",
       "      <td>ENSG00000004059</td>\n",
       "      <td>ENSG00000105443</td>\n",
       "    </tr>\n",
       "    <tr>\n",
       "      <th>1</th>\n",
       "      <td>ENSP00000000233</td>\n",
       "      <td>ENSP00000371175</td>\n",
       "      <td>ENSG00000004059</td>\n",
       "      <td>ENSG00000100083</td>\n",
       "    </tr>\n",
       "    <tr>\n",
       "      <th>2</th>\n",
       "      <td>ENSP00000000233</td>\n",
       "      <td>ENSP00000354878</td>\n",
       "      <td>ENSG00000004059</td>\n",
       "      <td>ENSG00000139116</td>\n",
       "    </tr>\n",
       "    <tr>\n",
       "      <th>3</th>\n",
       "      <td>ENSP00000000233</td>\n",
       "      <td>ENSP00000310226</td>\n",
       "      <td>ENSG00000004059</td>\n",
       "      <td>ENSG00000174903</td>\n",
       "    </tr>\n",
       "    <tr>\n",
       "      <th>4</th>\n",
       "      <td>ENSP00000000233</td>\n",
       "      <td>ENSP00000258098</td>\n",
       "      <td>ENSG00000004059</td>\n",
       "      <td>ENSG00000135631</td>\n",
       "    </tr>\n",
       "  </tbody>\n",
       "</table>\n",
       "</div>"
      ],
      "text/plain": [
       "          protein1         protein2  protein1_mapped  protein2_mapped\n",
       "0  ENSP00000000233  ENSP00000493357  ENSG00000004059  ENSG00000105443\n",
       "1  ENSP00000000233  ENSP00000371175  ENSG00000004059  ENSG00000100083\n",
       "2  ENSP00000000233  ENSP00000354878  ENSG00000004059  ENSG00000139116\n",
       "3  ENSP00000000233  ENSP00000310226  ENSG00000004059  ENSG00000174903\n",
       "4  ENSP00000000233  ENSP00000258098  ENSG00000004059  ENSG00000135631"
      ]
     },
     "execution_count": 10,
     "metadata": {},
     "output_type": "execute_result"
    }
   ],
   "source": [
    "df_protein_protein.head()"
   ]
  },
  {
   "cell_type": "code",
   "execution_count": 11,
   "metadata": {},
   "outputs": [],
   "source": [
    "df_protein_protein = df_protein_protein.drop(columns=['protein1', 'protein2'])"
   ]
  },
  {
   "cell_type": "code",
   "execution_count": null,
   "metadata": {},
   "outputs": [],
   "source": [
    "df_protein_protein.to_csv(r\"...path_to\\RDsqr-KG\\Preprocessed_datasets\\string_mapped.csv\")"
   ]
  },
  {
   "cell_type": "code",
   "execution_count": null,
   "metadata": {},
   "outputs": [],
   "source": []
  }
 ],
 "metadata": {
  "kernelspec": {
   "display_name": "base",
   "language": "python",
   "name": "python3"
  },
  "language_info": {
   "codemirror_mode": {
    "name": "ipython",
    "version": 3
   },
   "file_extension": ".py",
   "mimetype": "text/x-python",
   "name": "python",
   "nbconvert_exporter": "python",
   "pygments_lexer": "ipython3",
   "version": "3.12.4"
  }
 },
 "nbformat": 4,
 "nbformat_minor": 2
}
