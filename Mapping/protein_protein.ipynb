{
 "cells": [
  {
   "cell_type": "markdown",
   "metadata": {},
   "source": [
    "Mapping the ENSG IDs to NCBI IDs"
   ]
  },
  {
   "cell_type": "code",
   "execution_count": 1,
   "metadata": {},
   "outputs": [],
   "source": [
    "import pandas as pd"
   ]
  },
  {
   "cell_type": "code",
   "execution_count": null,
   "metadata": {},
   "outputs": [],
   "source": [
    "df_protein_protein = pd.read_csv(r\"...path_to\\RDsqr-KG\\Preprocessed_datasets\\string_mapped.csv\")\n",
    "df_gene_map = pd.read_csv(r\"...path_to\\RDsqr-KG\\Datasets\\Vocabulary_links\\gene_links.csv\")"
   ]
  },
  {
   "cell_type": "code",
   "execution_count": 3,
   "metadata": {},
   "outputs": [
    {
     "data": {
      "text/plain": [
       "Unnamed: 0              0\n",
       "protein1_mapped    157372\n",
       "protein2_mapped    157372\n",
       "dtype: int64"
      ]
     },
     "execution_count": 3,
     "metadata": {},
     "output_type": "execute_result"
    }
   ],
   "source": [
    "df_protein_protein.isna().sum() # dropping null values due to huge size"
   ]
  },
  {
   "cell_type": "code",
   "execution_count": 4,
   "metadata": {},
   "outputs": [],
   "source": [
    "df_protein_protein.dropna(inplace=True)\n",
    "df_protein_protein.drop_duplicates(inplace=True)"
   ]
  },
  {
   "cell_type": "code",
   "execution_count": 5,
   "metadata": {},
   "outputs": [
    {
     "data": {
      "text/plain": [
       "(1563008, 3)"
      ]
     },
     "execution_count": 5,
     "metadata": {},
     "output_type": "execute_result"
    }
   ],
   "source": [
    "df_protein_protein.shape"
   ]
  },
  {
   "cell_type": "code",
   "execution_count": 6,
   "metadata": {},
   "outputs": [],
   "source": [
    "df_gene_map['ncbi_id'] = df_gene_map['ncbi_id'].astype(str)"
   ]
  },
  {
   "cell_type": "code",
   "execution_count": 7,
   "metadata": {},
   "outputs": [],
   "source": [
    "df_protein_protein = pd.merge(df_protein_protein, df_gene_map, left_on='protein1_mapped', right_on='Ensembl_id', how='left')\n",
    "df_protein_protein = df_protein_protein.rename(columns={'ncbi_id': 'head_id', 'gene_name': 'head_name'})"
   ]
  },
  {
   "cell_type": "code",
   "execution_count": 8,
   "metadata": {},
   "outputs": [],
   "source": [
    "df_protein_protein = pd.merge(df_protein_protein, df_gene_map[['ncbi_id', 'gene_name','Ensembl_id']], left_on='protein2_mapped', right_on='Ensembl_id', how='left')\n",
    "df_protein_protein = df_protein_protein.rename(columns={'ncbi_id': 'tail_id', 'gene_name': 'tail_name'})"
   ]
  },
  {
   "cell_type": "code",
   "execution_count": 9,
   "metadata": {},
   "outputs": [],
   "source": [
    "df_protein_protein['head_type'] = 'gene'\n",
    "df_protein_protein['head_ref'] = 'NCBI'\n",
    "df_protein_protein['tail_type'] = 'gene'\n",
    "df_protein_protein['tail_ref'] = 'NCBI'\n",
    "df_protein_protein['predicate'] = 'ppi'"
   ]
  },
  {
   "cell_type": "code",
   "execution_count": 10,
   "metadata": {},
   "outputs": [],
   "source": [
    "df_protein_protein = df_protein_protein[['head_id', 'head_name', 'head_type','head_ref','tail_id', 'tail_name','tail_type','tail_ref','predicate']]"
   ]
  },
  {
   "cell_type": "code",
   "execution_count": 11,
   "metadata": {},
   "outputs": [
    {
     "data": {
      "text/plain": [
       "head_id      7879\n",
       "head_name    7879\n",
       "head_type       0\n",
       "head_ref        0\n",
       "tail_id      7879\n",
       "tail_name    7879\n",
       "tail_type       0\n",
       "tail_ref        0\n",
       "predicate       0\n",
       "dtype: int64"
      ]
     },
     "execution_count": 11,
     "metadata": {},
     "output_type": "execute_result"
    }
   ],
   "source": [
    "df_protein_protein.isna().sum()"
   ]
  },
  {
   "cell_type": "code",
   "execution_count": 12,
   "metadata": {},
   "outputs": [],
   "source": [
    "df_protein_protein.dropna(inplace=True)"
   ]
  },
  {
   "cell_type": "code",
   "execution_count": 13,
   "metadata": {},
   "outputs": [
    {
     "data": {
      "text/plain": [
       "head_id      0\n",
       "head_name    0\n",
       "head_type    0\n",
       "head_ref     0\n",
       "tail_id      0\n",
       "tail_name    0\n",
       "tail_type    0\n",
       "tail_ref     0\n",
       "predicate    0\n",
       "dtype: int64"
      ]
     },
     "execution_count": 13,
     "metadata": {},
     "output_type": "execute_result"
    }
   ],
   "source": [
    "df_protein_protein.isna().sum()"
   ]
  },
  {
   "cell_type": "code",
   "execution_count": 14,
   "metadata": {},
   "outputs": [],
   "source": [
    "df_protein_protein.drop_duplicates(inplace=True)"
   ]
  },
  {
   "cell_type": "code",
   "execution_count": 15,
   "metadata": {},
   "outputs": [],
   "source": [
    "#df_protein_protein = df_protein_protein.applymap(lambda x: str(x).strip())"
   ]
  },
  {
   "cell_type": "code",
   "execution_count": 16,
   "metadata": {},
   "outputs": [],
   "source": [
    "#df_protein_protein.dtypes"
   ]
  },
  {
   "cell_type": "code",
   "execution_count": 17,
   "metadata": {},
   "outputs": [
    {
     "data": {
      "text/plain": [
       "(1553122, 9)"
      ]
     },
     "execution_count": 17,
     "metadata": {},
     "output_type": "execute_result"
    }
   ],
   "source": [
    "df_protein_protein.shape"
   ]
  },
  {
   "cell_type": "code",
   "execution_count": null,
   "metadata": {},
   "outputs": [],
   "source": [
    "df_protein_protein.to_csv(r\"...path_to\\RDsqr-KG\\KG_datasets\\ppi.csv\", index = False)"
   ]
  },
  {
   "cell_type": "code",
   "execution_count": null,
   "metadata": {},
   "outputs": [],
   "source": []
  }
 ],
 "metadata": {
  "kernelspec": {
   "display_name": "base",
   "language": "python",
   "name": "python3"
  },
  "language_info": {
   "codemirror_mode": {
    "name": "ipython",
    "version": 3
   },
   "file_extension": ".py",
   "mimetype": "text/x-python",
   "name": "python",
   "nbconvert_exporter": "python",
   "pygments_lexer": "ipython3",
   "version": "3.12.4"
  }
 },
 "nbformat": 4,
 "nbformat_minor": 2
}
