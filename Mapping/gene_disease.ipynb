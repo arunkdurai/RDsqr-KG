{
 "cells": [
  {
   "cell_type": "markdown",
   "metadata": {},
   "source": [
    "Mapping and Merging Gene and Disease Data from HPO and Orphanet"
   ]
  },
  {
   "cell_type": "code",
   "execution_count": 31,
   "metadata": {},
   "outputs": [],
   "source": [
    "import pandas as pd"
   ]
  },
  {
   "cell_type": "markdown",
   "metadata": {},
   "source": [
    "Disease Mapping"
   ]
  },
  {
   "cell_type": "code",
   "execution_count": null,
   "metadata": {},
   "outputs": [],
   "source": [
    "#gene disease data\n",
    "df_gene_disease_orpha = pd.read_csv(r\"...path_to\\RDsqr-KG\\Preprocessed_datasets\\disease_gene_orphanet.csv\")\n",
    "df_gene_disease_orpha_hpo = pd.read_csv(r\"...path_to\\RDsqr-KG\\Preprocessed_datasets\\genes_to_disease_orpha_hpo.csv\")\n",
    "df_gene_disease_omim_hpo = pd.read_csv(r\"...path_to\\RDsqr-KG\\Preprocessed_datasets\\genes_to_disease_omim_hpo.csv\")"
   ]
  },
  {
   "cell_type": "code",
   "execution_count": null,
   "metadata": {},
   "outputs": [],
   "source": [
    "#disease links\n",
    "df_disease_map = pd.read_csv(r\"...path_to\\RDsqr-KG\\Preprocessed_datasets\\disease_references.csv\")\n",
    "df_omim_map = pd.read_csv(r\"...path_to\\RDsqr-KG\\Preprocessed_datasets\\genes_to_phenotype_omim_hpo.csv\")"
   ]
  },
  {
   "cell_type": "code",
   "execution_count": 34,
   "metadata": {},
   "outputs": [],
   "source": [
    "#ensuring everything is of object datatype\n",
    "df_gene_disease_orpha = df_gene_disease_orpha.astype(str)\n",
    "df_gene_disease_orpha_hpo = df_gene_disease_orpha_hpo.astype(str)\n",
    "df_gene_disease_omim_hpo = df_gene_disease_omim_hpo.astype(str)\n",
    "df_disease_map = df_disease_map.astype(str)\n",
    "df_omim_map = df_omim_map.astype(str)"
   ]
  },
  {
   "cell_type": "code",
   "execution_count": 35,
   "metadata": {},
   "outputs": [],
   "source": [
    "df_gene_disease_orpha = df_gene_disease_orpha[['OrphaCode', 'DisorderName', 'Ensembl']]"
   ]
  },
  {
   "cell_type": "code",
   "execution_count": 36,
   "metadata": {},
   "outputs": [],
   "source": [
    "df_hpo_orpha = pd.merge(df_gene_disease_orpha_hpo, df_gene_disease_orpha, left_on='ORPHA_disease_id', right_on='OrphaCode', how='left')\n",
    "df_hpo_orpha = df_hpo_orpha[['OrphaCode','DisorderName','ncbi_gene_id']]"
   ]
  },
  {
   "cell_type": "code",
   "execution_count": 37,
   "metadata": {},
   "outputs": [
    {
     "data": {
      "text/html": [
       "<div>\n",
       "<style scoped>\n",
       "    .dataframe tbody tr th:only-of-type {\n",
       "        vertical-align: middle;\n",
       "    }\n",
       "\n",
       "    .dataframe tbody tr th {\n",
       "        vertical-align: top;\n",
       "    }\n",
       "\n",
       "    .dataframe thead th {\n",
       "        text-align: right;\n",
       "    }\n",
       "</style>\n",
       "<table border=\"1\" class=\"dataframe\">\n",
       "  <thead>\n",
       "    <tr style=\"text-align: right;\">\n",
       "      <th></th>\n",
       "      <th>ncbi_gene_id</th>\n",
       "      <th>gene_symbol</th>\n",
       "      <th>hpo_id</th>\n",
       "      <th>hpo_name</th>\n",
       "      <th>OMIM_disease_id</th>\n",
       "    </tr>\n",
       "  </thead>\n",
       "  <tbody>\n",
       "    <tr>\n",
       "      <th>0</th>\n",
       "      <td>10</td>\n",
       "      <td>NAT2</td>\n",
       "      <td>7</td>\n",
       "      <td>Autosomal recessive inheritance</td>\n",
       "      <td>243400</td>\n",
       "    </tr>\n",
       "  </tbody>\n",
       "</table>\n",
       "</div>"
      ],
      "text/plain": [
       "  ncbi_gene_id gene_symbol hpo_id                         hpo_name  \\\n",
       "0           10        NAT2      7  Autosomal recessive inheritance   \n",
       "\n",
       "  OMIM_disease_id  \n",
       "0          243400  "
      ]
     },
     "execution_count": 37,
     "metadata": {},
     "output_type": "execute_result"
    }
   ],
   "source": [
    "df_omim_map.head(1)"
   ]
  },
  {
   "cell_type": "code",
   "execution_count": 38,
   "metadata": {},
   "outputs": [
    {
     "data": {
      "text/html": [
       "<div>\n",
       "<style scoped>\n",
       "    .dataframe tbody tr th:only-of-type {\n",
       "        vertical-align: middle;\n",
       "    }\n",
       "\n",
       "    .dataframe tbody tr th {\n",
       "        vertical-align: top;\n",
       "    }\n",
       "\n",
       "    .dataframe thead th {\n",
       "        text-align: right;\n",
       "    }\n",
       "</style>\n",
       "<table border=\"1\" class=\"dataframe\">\n",
       "  <thead>\n",
       "    <tr style=\"text-align: right;\">\n",
       "      <th></th>\n",
       "      <th>ncbi_gene_id</th>\n",
       "      <th>gene_symbol</th>\n",
       "      <th>OMIM_disease_id</th>\n",
       "    </tr>\n",
       "  </thead>\n",
       "  <tbody>\n",
       "    <tr>\n",
       "      <th>0</th>\n",
       "      <td>64170</td>\n",
       "      <td>CARD9</td>\n",
       "      <td>212050</td>\n",
       "    </tr>\n",
       "  </tbody>\n",
       "</table>\n",
       "</div>"
      ],
      "text/plain": [
       "  ncbi_gene_id gene_symbol OMIM_disease_id\n",
       "0        64170       CARD9          212050"
      ]
     },
     "execution_count": 38,
     "metadata": {},
     "output_type": "execute_result"
    }
   ],
   "source": [
    "df_gene_disease_omim_hpo.head(1)"
   ]
  },
  {
   "cell_type": "code",
   "execution_count": 39,
   "metadata": {},
   "outputs": [],
   "source": [
    "df_hpo_omim = pd.merge(df_gene_disease_omim_hpo, df_omim_map, left_on='OMIM_disease_id', right_on='OMIM_disease_id', how='left')\n",
    "df_hpo_omim = df_hpo_omim[['ncbi_gene_id_x','OMIM_disease_id', 'hpo_name']]"
   ]
  },
  {
   "cell_type": "code",
   "execution_count": 40,
   "metadata": {},
   "outputs": [],
   "source": [
    "df_disease_map['OMIM'] = df_disease_map['OMIM'].str.replace('.0', '', regex=False)"
   ]
  },
  {
   "cell_type": "code",
   "execution_count": 41,
   "metadata": {},
   "outputs": [],
   "source": [
    "df_hpo_omim = pd.merge(df_hpo_omim, df_disease_map, left_on='OMIM_disease_id', right_on='OMIM', how='left')"
   ]
  },
  {
   "cell_type": "code",
   "execution_count": 42,
   "metadata": {},
   "outputs": [],
   "source": [
    "df_hpo_omim = df_hpo_omim[['ncbi_gene_id_x','OMIM','hpo_name','OrphaCode','DisorderName']]"
   ]
  },
  {
   "cell_type": "code",
   "execution_count": 43,
   "metadata": {},
   "outputs": [
    {
     "data": {
      "text/html": [
       "<div>\n",
       "<style scoped>\n",
       "    .dataframe tbody tr th:only-of-type {\n",
       "        vertical-align: middle;\n",
       "    }\n",
       "\n",
       "    .dataframe tbody tr th {\n",
       "        vertical-align: top;\n",
       "    }\n",
       "\n",
       "    .dataframe thead th {\n",
       "        text-align: right;\n",
       "    }\n",
       "</style>\n",
       "<table border=\"1\" class=\"dataframe\">\n",
       "  <thead>\n",
       "    <tr style=\"text-align: right;\">\n",
       "      <th></th>\n",
       "      <th>ncbi_gene_id_x</th>\n",
       "      <th>OMIM</th>\n",
       "      <th>hpo_name</th>\n",
       "      <th>OrphaCode</th>\n",
       "      <th>DisorderName</th>\n",
       "    </tr>\n",
       "  </thead>\n",
       "  <tbody>\n",
       "    <tr>\n",
       "      <th>0</th>\n",
       "      <td>64170</td>\n",
       "      <td>212050</td>\n",
       "      <td>Chronic tinea infection</td>\n",
       "      <td>457088</td>\n",
       "      <td>Predisposition to invasive fungal disease due ...</td>\n",
       "    </tr>\n",
       "    <tr>\n",
       "      <th>1</th>\n",
       "      <td>64170</td>\n",
       "      <td>212050</td>\n",
       "      <td>Meningitis</td>\n",
       "      <td>457088</td>\n",
       "      <td>Predisposition to invasive fungal disease due ...</td>\n",
       "    </tr>\n",
       "    <tr>\n",
       "      <th>2</th>\n",
       "      <td>64170</td>\n",
       "      <td>212050</td>\n",
       "      <td>Abnormal B cell count</td>\n",
       "      <td>457088</td>\n",
       "      <td>Predisposition to invasive fungal disease due ...</td>\n",
       "    </tr>\n",
       "    <tr>\n",
       "      <th>3</th>\n",
       "      <td>64170</td>\n",
       "      <td>212050</td>\n",
       "      <td>Autosomal recessive inheritance</td>\n",
       "      <td>457088</td>\n",
       "      <td>Predisposition to invasive fungal disease due ...</td>\n",
       "    </tr>\n",
       "    <tr>\n",
       "      <th>4</th>\n",
       "      <td>64170</td>\n",
       "      <td>212050</td>\n",
       "      <td>Deep dermatophytosis</td>\n",
       "      <td>457088</td>\n",
       "      <td>Predisposition to invasive fungal disease due ...</td>\n",
       "    </tr>\n",
       "  </tbody>\n",
       "</table>\n",
       "</div>"
      ],
      "text/plain": [
       "  ncbi_gene_id_x    OMIM                         hpo_name OrphaCode  \\\n",
       "0          64170  212050          Chronic tinea infection    457088   \n",
       "1          64170  212050                       Meningitis    457088   \n",
       "2          64170  212050            Abnormal B cell count    457088   \n",
       "3          64170  212050  Autosomal recessive inheritance    457088   \n",
       "4          64170  212050             Deep dermatophytosis    457088   \n",
       "\n",
       "                                        DisorderName  \n",
       "0  Predisposition to invasive fungal disease due ...  \n",
       "1  Predisposition to invasive fungal disease due ...  \n",
       "2  Predisposition to invasive fungal disease due ...  \n",
       "3  Predisposition to invasive fungal disease due ...  \n",
       "4  Predisposition to invasive fungal disease due ...  "
      ]
     },
     "execution_count": 43,
     "metadata": {},
     "output_type": "execute_result"
    }
   ],
   "source": [
    "df_hpo_omim.head()"
   ]
  },
  {
   "cell_type": "code",
   "execution_count": 44,
   "metadata": {},
   "outputs": [
    {
     "data": {
      "text/plain": [
       "ncbi_gene_id_x        0\n",
       "OMIM              88578\n",
       "hpo_name            449\n",
       "OrphaCode         88578\n",
       "DisorderName      88578\n",
       "dtype: int64"
      ]
     },
     "execution_count": 44,
     "metadata": {},
     "output_type": "execute_result"
    }
   ],
   "source": [
    "df_hpo_omim.isna().sum()"
   ]
  },
  {
   "cell_type": "code",
   "execution_count": 45,
   "metadata": {},
   "outputs": [],
   "source": [
    "df_hpo_omim = df_hpo_omim[['ncbi_gene_id_x','OrphaCode','DisorderName']]"
   ]
  },
  {
   "cell_type": "markdown",
   "metadata": {},
   "source": [
    "Gene Mapping"
   ]
  },
  {
   "cell_type": "code",
   "execution_count": null,
   "metadata": {},
   "outputs": [],
   "source": [
    "df_gene_map = pd.read_csv(r\"...path_to\\RDsqr-KG\\Datasets\\Vocabulary_links\\gene_links.csv\")"
   ]
  },
  {
   "cell_type": "code",
   "execution_count": 47,
   "metadata": {},
   "outputs": [],
   "source": [
    "df_gene_map['ncbi_id'] = df_gene_map['ncbi_id'].astype(str)"
   ]
  },
  {
   "cell_type": "code",
   "execution_count": 48,
   "metadata": {},
   "outputs": [],
   "source": [
    "df_gdi1 = pd.merge(df_gene_disease_orpha, df_gene_map, left_on='Ensembl', right_on='Ensembl_id', how='left')\n",
    "df_gdi1 = df_gdi1[['ncbi_id','gene_name','OrphaCode','DisorderName']]\n",
    "\n",
    "df_gdi2 = pd.merge(df_hpo_orpha, df_gene_map, left_on='ncbi_gene_id', right_on='ncbi_id', how='left')\n",
    "df_gdi2 = df_gdi2[['ncbi_id','gene_name','OrphaCode','DisorderName']]\n",
    "\n",
    "df_gdi3 = pd.merge(df_hpo_omim, df_gene_map, left_on='ncbi_gene_id_x', right_on='ncbi_id', how='left')\n",
    "df_gdi3 = df_gdi3[['ncbi_id','gene_name','OrphaCode','DisorderName']]"
   ]
  },
  {
   "cell_type": "code",
   "execution_count": 49,
   "metadata": {},
   "outputs": [],
   "source": [
    "df_gdi = pd.concat([df_gdi1, df_gdi2, df_gdi3], ignore_index=True)"
   ]
  },
  {
   "cell_type": "code",
   "execution_count": 51,
   "metadata": {},
   "outputs": [],
   "source": [
    "df_gdi['DisorderName'] = df_gdi['DisorderName'].str.replace(r'^NON RARE IN EUROPE:\\s*', '', regex=True).str.strip()\n",
    "df_gdi = df_gdi[~df_gdi['DisorderName'].fillna('').str.startswith('OBSOLETE')]"
   ]
  },
  {
   "cell_type": "code",
   "execution_count": 52,
   "metadata": {},
   "outputs": [
    {
     "data": {
      "text/plain": [
       "ncbi_id          1803\n",
       "gene_name        1803\n",
       "OrphaCode       88578\n",
       "DisorderName    88578\n",
       "dtype: int64"
      ]
     },
     "execution_count": 52,
     "metadata": {},
     "output_type": "execute_result"
    }
   ],
   "source": [
    "df_gdi.isna().sum()"
   ]
  },
  {
   "cell_type": "code",
   "execution_count": 53,
   "metadata": {},
   "outputs": [],
   "source": [
    "df_gdi.dropna(inplace=True)"
   ]
  },
  {
   "cell_type": "code",
   "execution_count": 54,
   "metadata": {},
   "outputs": [
    {
     "data": {
      "text/plain": [
       "ncbi_id         0\n",
       "gene_name       0\n",
       "OrphaCode       0\n",
       "DisorderName    0\n",
       "dtype: int64"
      ]
     },
     "execution_count": 54,
     "metadata": {},
     "output_type": "execute_result"
    }
   ],
   "source": [
    "df_gdi.isna().sum()"
   ]
  },
  {
   "cell_type": "code",
   "execution_count": 55,
   "metadata": {},
   "outputs": [],
   "source": [
    "df_gdi.drop_duplicates(inplace=True)"
   ]
  },
  {
   "cell_type": "code",
   "execution_count": 56,
   "metadata": {},
   "outputs": [
    {
     "data": {
      "text/plain": [
       "(9237, 4)"
      ]
     },
     "execution_count": 56,
     "metadata": {},
     "output_type": "execute_result"
    }
   ],
   "source": [
    "df_gdi.shape"
   ]
  },
  {
   "cell_type": "code",
   "execution_count": 57,
   "metadata": {},
   "outputs": [],
   "source": [
    "df_gdi = df_gdi.rename(columns={'ncbi_id': 'head_id','gene_name': 'head_name','OrphaCode': 'tail_id','DisorderName': 'tail_name'})"
   ]
  },
  {
   "cell_type": "code",
   "execution_count": 58,
   "metadata": {},
   "outputs": [],
   "source": [
    "df_gdi['head_type'] = 'gene'\n",
    "df_gdi['head_ref'] = 'NCBI'\n",
    "df_gdi['tail_type'] = 'disease'\n",
    "df_gdi['tail_ref'] = 'Orphanet'\n",
    "df_gdi['predicate'] = 'gdi' "
   ]
  },
  {
   "cell_type": "code",
   "execution_count": 59,
   "metadata": {},
   "outputs": [],
   "source": [
    "df_gdi = df_gdi[['head_id', 'head_name', 'head_type','head_ref','tail_id', 'tail_name','tail_type','tail_ref','predicate']]"
   ]
  },
  {
   "cell_type": "code",
   "execution_count": 60,
   "metadata": {},
   "outputs": [
    {
     "data": {
      "text/plain": [
       "(9237, 9)"
      ]
     },
     "execution_count": 60,
     "metadata": {},
     "output_type": "execute_result"
    }
   ],
   "source": [
    "df_gdi.shape"
   ]
  },
  {
   "cell_type": "code",
   "execution_count": 61,
   "metadata": {},
   "outputs": [
    {
     "data": {
      "text/html": [
       "<div>\n",
       "<style scoped>\n",
       "    .dataframe tbody tr th:only-of-type {\n",
       "        vertical-align: middle;\n",
       "    }\n",
       "\n",
       "    .dataframe tbody tr th {\n",
       "        vertical-align: top;\n",
       "    }\n",
       "\n",
       "    .dataframe thead th {\n",
       "        text-align: right;\n",
       "    }\n",
       "</style>\n",
       "<table border=\"1\" class=\"dataframe\">\n",
       "  <thead>\n",
       "    <tr style=\"text-align: right;\">\n",
       "      <th></th>\n",
       "      <th>head_id</th>\n",
       "      <th>head_name</th>\n",
       "      <th>head_type</th>\n",
       "      <th>head_ref</th>\n",
       "      <th>tail_id</th>\n",
       "      <th>tail_name</th>\n",
       "      <th>tail_type</th>\n",
       "      <th>tail_ref</th>\n",
       "      <th>predicate</th>\n",
       "    </tr>\n",
       "  </thead>\n",
       "  <tbody>\n",
       "    <tr>\n",
       "      <th>0</th>\n",
       "      <td>374654</td>\n",
       "      <td>kinesin family member 7</td>\n",
       "      <td>gene</td>\n",
       "      <td>NCBI</td>\n",
       "      <td>166024</td>\n",
       "      <td>Multiple epiphyseal dysplasia, Al-Gazali type</td>\n",
       "      <td>disease</td>\n",
       "      <td>Orphanet</td>\n",
       "      <td>gdi</td>\n",
       "    </tr>\n",
       "  </tbody>\n",
       "</table>\n",
       "</div>"
      ],
      "text/plain": [
       "  head_id                head_name head_type head_ref tail_id  \\\n",
       "0  374654  kinesin family member 7      gene     NCBI  166024   \n",
       "\n",
       "                                       tail_name tail_type  tail_ref predicate  \n",
       "0  Multiple epiphyseal dysplasia, Al-Gazali type   disease  Orphanet       gdi  "
      ]
     },
     "execution_count": 61,
     "metadata": {},
     "output_type": "execute_result"
    }
   ],
   "source": [
    "df_gdi.head(1)"
   ]
  },
  {
   "cell_type": "code",
   "execution_count": null,
   "metadata": {},
   "outputs": [],
   "source": [
    "df_gdi.to_csv(r\"...path_to\\RDsqr-KG\\KG_datasets\\gdi.csv\", index=False)"
   ]
  },
  {
   "cell_type": "code",
   "execution_count": null,
   "metadata": {},
   "outputs": [],
   "source": []
  }
 ],
 "metadata": {
  "kernelspec": {
   "display_name": "base",
   "language": "python",
   "name": "python3"
  },
  "language_info": {
   "codemirror_mode": {
    "name": "ipython",
    "version": 3
   },
   "file_extension": ".py",
   "mimetype": "text/x-python",
   "name": "python",
   "nbconvert_exporter": "python",
   "pygments_lexer": "ipython3",
   "version": "3.12.4"
  }
 },
 "nbformat": 4,
 "nbformat_minor": 2
}
