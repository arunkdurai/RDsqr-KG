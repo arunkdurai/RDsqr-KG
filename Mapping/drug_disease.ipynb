{
 "cells": [
  {
   "cell_type": "code",
   "execution_count": 1,
   "metadata": {},
   "outputs": [],
   "source": [
    "import pandas as pd"
   ]
  },
  {
   "cell_type": "code",
   "execution_count": null,
   "metadata": {},
   "outputs": [],
   "source": [
    "drug_indication = pd.read_csv(r\"...path_to\\RDsqr-KG\\Preprocessed_datasets\\drug_disease_ttd.csv\")\n",
    "drug_map = pd.read_csv(r\"...path_to\\RDsqr-KG\\Datasets\\Vocabulary_links\\drug links.csv\")\n",
    "drug_ttd_map = pd.read_csv(r\"...path_to\\RDsqr-KG\\Preprocessed_datasets\\drug_crosslinks_ttd.csv\")\n",
    "disease_map = pd.read_csv(r\"...path_to\\RDsqr-KG\\Preprocessed_datasets\\disease_references.csv\")"
   ]
  },
  {
   "cell_type": "code",
   "execution_count": 3,
   "metadata": {},
   "outputs": [
    {
     "data": {
      "text/html": [
       "<div>\n",
       "<style scoped>\n",
       "    .dataframe tbody tr th:only-of-type {\n",
       "        vertical-align: middle;\n",
       "    }\n",
       "\n",
       "    .dataframe tbody tr th {\n",
       "        vertical-align: top;\n",
       "    }\n",
       "\n",
       "    .dataframe thead th {\n",
       "        text-align: right;\n",
       "    }\n",
       "</style>\n",
       "<table border=\"1\" class=\"dataframe\">\n",
       "  <thead>\n",
       "    <tr style=\"text-align: right;\">\n",
       "      <th></th>\n",
       "      <th>TTD_ID</th>\n",
       "      <th>drug_name</th>\n",
       "      <th>disease_name</th>\n",
       "      <th>ICD_11</th>\n",
       "      <th>status</th>\n",
       "    </tr>\n",
       "  </thead>\n",
       "  <tbody>\n",
       "    <tr>\n",
       "      <th>0</th>\n",
       "      <td>DZB84T</td>\n",
       "      <td>Maralixibat</td>\n",
       "      <td>Pruritus</td>\n",
       "      <td>EC90</td>\n",
       "      <td>Approved</td>\n",
       "    </tr>\n",
       "  </tbody>\n",
       "</table>\n",
       "</div>"
      ],
      "text/plain": [
       "   TTD_ID    drug_name disease_name ICD_11    status\n",
       "0  DZB84T  Maralixibat     Pruritus   EC90  Approved"
      ]
     },
     "execution_count": 3,
     "metadata": {},
     "output_type": "execute_result"
    }
   ],
   "source": [
    "drug_indication.head(1)"
   ]
  },
  {
   "cell_type": "code",
   "execution_count": 4,
   "metadata": {},
   "outputs": [],
   "source": [
    "merge1 = pd.merge(drug_ttd_map,drug_map,left_on='cas_id',right_on='CAS Number',how='left')\n",
    "merge2 = pd.merge(merge1, drug_indication, left_on ='TTD_ID', right_on='TTD_ID', how='left')"
   ]
  },
  {
   "cell_type": "code",
   "execution_count": 5,
   "metadata": {},
   "outputs": [
    {
     "data": {
      "text/html": [
       "<div>\n",
       "<style scoped>\n",
       "    .dataframe tbody tr th:only-of-type {\n",
       "        vertical-align: middle;\n",
       "    }\n",
       "\n",
       "    .dataframe tbody tr th {\n",
       "        vertical-align: top;\n",
       "    }\n",
       "\n",
       "    .dataframe thead th {\n",
       "        text-align: right;\n",
       "    }\n",
       "</style>\n",
       "<table border=\"1\" class=\"dataframe\">\n",
       "  <thead>\n",
       "    <tr style=\"text-align: right;\">\n",
       "      <th></th>\n",
       "      <th>DrugBank ID</th>\n",
       "      <th>Name</th>\n",
       "      <th>CAS Number</th>\n",
       "      <th>Drug Type</th>\n",
       "      <th>KEGG Compound ID</th>\n",
       "      <th>KEGG Drug ID</th>\n",
       "      <th>PubChem Compound ID</th>\n",
       "      <th>PubChem Substance ID</th>\n",
       "      <th>ChEBI ID</th>\n",
       "      <th>PharmGKB ID</th>\n",
       "      <th>...</th>\n",
       "      <th>GenBank ID</th>\n",
       "      <th>DPD ID</th>\n",
       "      <th>RxList Link</th>\n",
       "      <th>Pdrhealth Link</th>\n",
       "      <th>Wikipedia ID</th>\n",
       "      <th>Drugs.com Link</th>\n",
       "      <th>NDC ID</th>\n",
       "      <th>ChemSpider ID</th>\n",
       "      <th>BindingDB ID</th>\n",
       "      <th>TTD ID</th>\n",
       "    </tr>\n",
       "  </thead>\n",
       "  <tbody>\n",
       "    <tr>\n",
       "      <th>0</th>\n",
       "      <td>DB00001</td>\n",
       "      <td>Lepirudin</td>\n",
       "      <td>138068-37-8</td>\n",
       "      <td>BiotechDrug</td>\n",
       "      <td>NaN</td>\n",
       "      <td>D06880</td>\n",
       "      <td>NaN</td>\n",
       "      <td>46507011.0</td>\n",
       "      <td>NaN</td>\n",
       "      <td>PA450195</td>\n",
       "      <td>...</td>\n",
       "      <td>NaN</td>\n",
       "      <td>11916</td>\n",
       "      <td>http://www.rxlist.com/cgi/generic/lepirudin.htm</td>\n",
       "      <td>NaN</td>\n",
       "      <td>Lepirudin</td>\n",
       "      <td>http://www.drugs.com/cdi/lepirudin.html</td>\n",
       "      <td>NaN</td>\n",
       "      <td>NaN</td>\n",
       "      <td>NaN</td>\n",
       "      <td>DAP000541</td>\n",
       "    </tr>\n",
       "  </tbody>\n",
       "</table>\n",
       "<p>1 rows × 23 columns</p>\n",
       "</div>"
      ],
      "text/plain": [
       "  DrugBank ID       Name   CAS Number    Drug Type KEGG Compound ID  \\\n",
       "0     DB00001  Lepirudin  138068-37-8  BiotechDrug              NaN   \n",
       "\n",
       "  KEGG Drug ID  PubChem Compound ID  PubChem Substance ID  ChEBI ID  \\\n",
       "0       D06880                  NaN            46507011.0       NaN   \n",
       "\n",
       "  PharmGKB ID  ... GenBank ID DPD ID  \\\n",
       "0    PA450195  ...        NaN  11916   \n",
       "\n",
       "                                       RxList Link Pdrhealth Link  \\\n",
       "0  http://www.rxlist.com/cgi/generic/lepirudin.htm            NaN   \n",
       "\n",
       "  Wikipedia ID                           Drugs.com Link NDC ID ChemSpider ID  \\\n",
       "0    Lepirudin  http://www.drugs.com/cdi/lepirudin.html    NaN           NaN   \n",
       "\n",
       "  BindingDB ID     TTD ID  \n",
       "0          NaN  DAP000541  \n",
       "\n",
       "[1 rows x 23 columns]"
      ]
     },
     "execution_count": 5,
     "metadata": {},
     "output_type": "execute_result"
    }
   ],
   "source": [
    "drug_map.head(1)"
   ]
  },
  {
   "cell_type": "code",
   "execution_count": 6,
   "metadata": {},
   "outputs": [],
   "source": [
    "drug_disease = merge2[['DrugBank ID', 'Name', 'ICD_11', 'disease_name', 'status']]"
   ]
  },
  {
   "cell_type": "code",
   "execution_count": 7,
   "metadata": {},
   "outputs": [
    {
     "data": {
      "text/html": [
       "<div>\n",
       "<style scoped>\n",
       "    .dataframe tbody tr th:only-of-type {\n",
       "        vertical-align: middle;\n",
       "    }\n",
       "\n",
       "    .dataframe tbody tr th {\n",
       "        vertical-align: top;\n",
       "    }\n",
       "\n",
       "    .dataframe thead th {\n",
       "        text-align: right;\n",
       "    }\n",
       "</style>\n",
       "<table border=\"1\" class=\"dataframe\">\n",
       "  <thead>\n",
       "    <tr style=\"text-align: right;\">\n",
       "      <th></th>\n",
       "      <th>DrugBank ID</th>\n",
       "      <th>Name</th>\n",
       "      <th>ICD_11</th>\n",
       "      <th>disease_name</th>\n",
       "      <th>status</th>\n",
       "    </tr>\n",
       "  </thead>\n",
       "  <tbody>\n",
       "    <tr>\n",
       "      <th>0</th>\n",
       "      <td>DB14570</td>\n",
       "      <td>Hydroxyprogesterone</td>\n",
       "      <td>2A00-2F9Z</td>\n",
       "      <td>Solid tumour/cancer</td>\n",
       "      <td>Approved</td>\n",
       "    </tr>\n",
       "  </tbody>\n",
       "</table>\n",
       "</div>"
      ],
      "text/plain": [
       "  DrugBank ID                 Name     ICD_11         disease_name    status\n",
       "0     DB14570  Hydroxyprogesterone  2A00-2F9Z  Solid tumour/cancer  Approved"
      ]
     },
     "execution_count": 7,
     "metadata": {},
     "output_type": "execute_result"
    }
   ],
   "source": [
    "drug_disease.head(1)"
   ]
  },
  {
   "cell_type": "markdown",
   "metadata": {},
   "source": [
    "Disease Mapping"
   ]
  },
  {
   "cell_type": "code",
   "execution_count": 8,
   "metadata": {},
   "outputs": [
    {
     "data": {
      "text/html": [
       "<div>\n",
       "<style scoped>\n",
       "    .dataframe tbody tr th:only-of-type {\n",
       "        vertical-align: middle;\n",
       "    }\n",
       "\n",
       "    .dataframe tbody tr th {\n",
       "        vertical-align: top;\n",
       "    }\n",
       "\n",
       "    .dataframe thead th {\n",
       "        text-align: right;\n",
       "    }\n",
       "</style>\n",
       "<table border=\"1\" class=\"dataframe\">\n",
       "  <thead>\n",
       "    <tr style=\"text-align: right;\">\n",
       "      <th></th>\n",
       "      <th>OrphaCode</th>\n",
       "      <th>DisorderName</th>\n",
       "      <th>ICD-11</th>\n",
       "      <th>ICD-10</th>\n",
       "      <th>OMIM</th>\n",
       "      <th>UMLS</th>\n",
       "      <th>MeSH</th>\n",
       "      <th>MedDRA</th>\n",
       "      <th>GARD</th>\n",
       "    </tr>\n",
       "  </thead>\n",
       "  <tbody>\n",
       "    <tr>\n",
       "      <th>0</th>\n",
       "      <td>166024</td>\n",
       "      <td>Multiple epiphyseal dysplasia, Al-Gazali type</td>\n",
       "      <td>LD24.61</td>\n",
       "      <td>Q77.3</td>\n",
       "      <td>607131.0</td>\n",
       "      <td>C4304500</td>\n",
       "      <td>NaN</td>\n",
       "      <td>NaN</td>\n",
       "      <td>NaN</td>\n",
       "    </tr>\n",
       "  </tbody>\n",
       "</table>\n",
       "</div>"
      ],
      "text/plain": [
       "   OrphaCode                                   DisorderName   ICD-11 ICD-10  \\\n",
       "0     166024  Multiple epiphyseal dysplasia, Al-Gazali type  LD24.61  Q77.3   \n",
       "\n",
       "       OMIM      UMLS MeSH MedDRA  GARD  \n",
       "0  607131.0  C4304500  NaN    NaN   NaN  "
      ]
     },
     "execution_count": 8,
     "metadata": {},
     "output_type": "execute_result"
    }
   ],
   "source": [
    "disease_map.head(1)"
   ]
  },
  {
   "cell_type": "code",
   "execution_count": 9,
   "metadata": {},
   "outputs": [],
   "source": [
    "disease_map['DisorderName'] = disease_map['DisorderName'].str.replace(r'^NON RARE IN EUROPE:\\s*', '', regex=True).str.strip()"
   ]
  },
  {
   "cell_type": "code",
   "execution_count": 10,
   "metadata": {},
   "outputs": [],
   "source": [
    "df_disease_map = pd.merge(\n",
    "    drug_disease, \n",
    "    disease_map, \n",
    "    left_on=['disease_name'], \n",
    "    right_on=['DisorderName'],  \n",
    "    how='left'\n",
    ")"
   ]
  },
  {
   "cell_type": "code",
   "execution_count": 11,
   "metadata": {},
   "outputs": [],
   "source": [
    "df_orpha = df_disease_map.rename(columns={'DrugBank ID': 'head_id', 'Name': 'head_name', 'OrphaCode': 'tail_id','DisorderName':'tail_name'})"
   ]
  },
  {
   "cell_type": "code",
   "execution_count": 12,
   "metadata": {},
   "outputs": [],
   "source": [
    "df_orpha['head_type'] = 'drug'\n",
    "df_orpha['head_ref'] = 'DrugBank'\n",
    "df_orpha['tail_type'] = 'disease'\n",
    "df_orpha['tail_ref'] = 'Orphanet'\n",
    "df_orpha['predicate'] = 'ddii'"
   ]
  },
  {
   "cell_type": "code",
   "execution_count": 13,
   "metadata": {},
   "outputs": [],
   "source": [
    "df_orpha = df_orpha[['head_id', 'head_name', 'head_type','head_ref','tail_id', 'tail_name','tail_type','tail_ref','predicate', 'status']]"
   ]
  },
  {
   "cell_type": "code",
   "execution_count": 14,
   "metadata": {},
   "outputs": [
    {
     "data": {
      "text/plain": [
       "(14287, 10)"
      ]
     },
     "execution_count": 14,
     "metadata": {},
     "output_type": "execute_result"
    }
   ],
   "source": [
    "df_orpha.shape"
   ]
  },
  {
   "cell_type": "code",
   "execution_count": 15,
   "metadata": {},
   "outputs": [
    {
     "data": {
      "text/plain": [
       "head_id       7403\n",
       "head_name     7403\n",
       "head_type        0\n",
       "head_ref         0\n",
       "tail_id      12839\n",
       "tail_name    12839\n",
       "tail_type        0\n",
       "tail_ref         0\n",
       "predicate        0\n",
       "status        4810\n",
       "dtype: int64"
      ]
     },
     "execution_count": 15,
     "metadata": {},
     "output_type": "execute_result"
    }
   ],
   "source": [
    "df_orpha.isna().sum()"
   ]
  },
  {
   "cell_type": "code",
   "execution_count": 16,
   "metadata": {},
   "outputs": [],
   "source": [
    "df_orpha.dropna(inplace=True)"
   ]
  },
  {
   "cell_type": "code",
   "execution_count": 17,
   "metadata": {},
   "outputs": [],
   "source": [
    "df_orpha.drop_duplicates(inplace=True)"
   ]
  },
  {
   "cell_type": "code",
   "execution_count": 18,
   "metadata": {},
   "outputs": [
    {
     "data": {
      "text/plain": [
       "head_id      0\n",
       "head_name    0\n",
       "head_type    0\n",
       "head_ref     0\n",
       "tail_id      0\n",
       "tail_name    0\n",
       "tail_type    0\n",
       "tail_ref     0\n",
       "predicate    0\n",
       "status       0\n",
       "dtype: int64"
      ]
     },
     "execution_count": 18,
     "metadata": {},
     "output_type": "execute_result"
    }
   ],
   "source": [
    "df_orpha.isna().sum()"
   ]
  },
  {
   "cell_type": "code",
   "execution_count": 19,
   "metadata": {},
   "outputs": [
    {
     "data": {
      "text/plain": [
       "(1030, 10)"
      ]
     },
     "execution_count": 19,
     "metadata": {},
     "output_type": "execute_result"
    }
   ],
   "source": [
    "df_orpha.shape"
   ]
  },
  {
   "cell_type": "code",
   "execution_count": null,
   "metadata": {},
   "outputs": [],
   "source": [
    "df_orpha.to_csv(r'...path_to\\RDsqr-KG\\KG_datasets\\orpha.csv', index=False)"
   ]
  },
  {
   "cell_type": "code",
   "execution_count": 21,
   "metadata": {},
   "outputs": [],
   "source": [
    "unmapped_rows = df_disease_map[df_disease_map['DisorderName'].isna()]"
   ]
  },
  {
   "cell_type": "code",
   "execution_count": 22,
   "metadata": {},
   "outputs": [
    {
     "data": {
      "text/html": [
       "<div>\n",
       "<style scoped>\n",
       "    .dataframe tbody tr th:only-of-type {\n",
       "        vertical-align: middle;\n",
       "    }\n",
       "\n",
       "    .dataframe tbody tr th {\n",
       "        vertical-align: top;\n",
       "    }\n",
       "\n",
       "    .dataframe thead th {\n",
       "        text-align: right;\n",
       "    }\n",
       "</style>\n",
       "<table border=\"1\" class=\"dataframe\">\n",
       "  <thead>\n",
       "    <tr style=\"text-align: right;\">\n",
       "      <th></th>\n",
       "      <th>DrugBank ID</th>\n",
       "      <th>Name</th>\n",
       "      <th>ICD_11</th>\n",
       "      <th>disease_name</th>\n",
       "      <th>status</th>\n",
       "      <th>OrphaCode</th>\n",
       "      <th>DisorderName</th>\n",
       "      <th>ICD-11</th>\n",
       "      <th>ICD-10</th>\n",
       "      <th>OMIM</th>\n",
       "      <th>UMLS</th>\n",
       "      <th>MeSH</th>\n",
       "      <th>MedDRA</th>\n",
       "      <th>GARD</th>\n",
       "    </tr>\n",
       "  </thead>\n",
       "  <tbody>\n",
       "    <tr>\n",
       "      <th>0</th>\n",
       "      <td>DB14570</td>\n",
       "      <td>Hydroxyprogesterone</td>\n",
       "      <td>2A00-2F9Z</td>\n",
       "      <td>Solid tumour/cancer</td>\n",
       "      <td>Approved</td>\n",
       "      <td>NaN</td>\n",
       "      <td>NaN</td>\n",
       "      <td>NaN</td>\n",
       "      <td>NaN</td>\n",
       "      <td>NaN</td>\n",
       "      <td>NaN</td>\n",
       "      <td>NaN</td>\n",
       "      <td>NaN</td>\n",
       "      <td>NaN</td>\n",
       "    </tr>\n",
       "    <tr>\n",
       "      <th>1</th>\n",
       "      <td>DB00898</td>\n",
       "      <td>Ethanol</td>\n",
       "      <td>GC00</td>\n",
       "      <td>Cystitis</td>\n",
       "      <td>Approved</td>\n",
       "      <td>NaN</td>\n",
       "      <td>NaN</td>\n",
       "      <td>NaN</td>\n",
       "      <td>NaN</td>\n",
       "      <td>NaN</td>\n",
       "      <td>NaN</td>\n",
       "      <td>NaN</td>\n",
       "      <td>NaN</td>\n",
       "      <td>NaN</td>\n",
       "    </tr>\n",
       "    <tr>\n",
       "      <th>2</th>\n",
       "      <td>DB00898</td>\n",
       "      <td>Ethanol</td>\n",
       "      <td>MG30</td>\n",
       "      <td>Chronic pain</td>\n",
       "      <td>Approved</td>\n",
       "      <td>NaN</td>\n",
       "      <td>NaN</td>\n",
       "      <td>NaN</td>\n",
       "      <td>NaN</td>\n",
       "      <td>NaN</td>\n",
       "      <td>NaN</td>\n",
       "      <td>NaN</td>\n",
       "      <td>NaN</td>\n",
       "      <td>NaN</td>\n",
       "    </tr>\n",
       "    <tr>\n",
       "      <th>3</th>\n",
       "      <td>DB00632</td>\n",
       "      <td>Docosanol</td>\n",
       "      <td>1F00</td>\n",
       "      <td>Herpes simplex virus infection</td>\n",
       "      <td>Approved</td>\n",
       "      <td>NaN</td>\n",
       "      <td>NaN</td>\n",
       "      <td>NaN</td>\n",
       "      <td>NaN</td>\n",
       "      <td>NaN</td>\n",
       "      <td>NaN</td>\n",
       "      <td>NaN</td>\n",
       "      <td>NaN</td>\n",
       "      <td>NaN</td>\n",
       "    </tr>\n",
       "    <tr>\n",
       "      <th>4</th>\n",
       "      <td>DB01608</td>\n",
       "      <td>Periciazine</td>\n",
       "      <td>6E8Z</td>\n",
       "      <td>Psychiatric disorder</td>\n",
       "      <td>Approved</td>\n",
       "      <td>NaN</td>\n",
       "      <td>NaN</td>\n",
       "      <td>NaN</td>\n",
       "      <td>NaN</td>\n",
       "      <td>NaN</td>\n",
       "      <td>NaN</td>\n",
       "      <td>NaN</td>\n",
       "      <td>NaN</td>\n",
       "      <td>NaN</td>\n",
       "    </tr>\n",
       "  </tbody>\n",
       "</table>\n",
       "</div>"
      ],
      "text/plain": [
       "  DrugBank ID                 Name     ICD_11                    disease_name  \\\n",
       "0     DB14570  Hydroxyprogesterone  2A00-2F9Z             Solid tumour/cancer   \n",
       "1     DB00898              Ethanol       GC00                        Cystitis   \n",
       "2     DB00898              Ethanol       MG30                    Chronic pain   \n",
       "3     DB00632            Docosanol       1F00  Herpes simplex virus infection   \n",
       "4     DB01608          Periciazine       6E8Z            Psychiatric disorder   \n",
       "\n",
       "     status  OrphaCode DisorderName ICD-11 ICD-10  OMIM UMLS MeSH MedDRA  GARD  \n",
       "0  Approved        NaN          NaN    NaN    NaN   NaN  NaN  NaN    NaN   NaN  \n",
       "1  Approved        NaN          NaN    NaN    NaN   NaN  NaN  NaN    NaN   NaN  \n",
       "2  Approved        NaN          NaN    NaN    NaN   NaN  NaN  NaN    NaN   NaN  \n",
       "3  Approved        NaN          NaN    NaN    NaN   NaN  NaN  NaN    NaN   NaN  \n",
       "4  Approved        NaN          NaN    NaN    NaN   NaN  NaN  NaN    NaN   NaN  "
      ]
     },
     "execution_count": 22,
     "metadata": {},
     "output_type": "execute_result"
    }
   ],
   "source": [
    "unmapped_rows.head()"
   ]
  },
  {
   "cell_type": "code",
   "execution_count": 23,
   "metadata": {},
   "outputs": [
    {
     "data": {
      "text/plain": [
       "(12839, 14)"
      ]
     },
     "execution_count": 23,
     "metadata": {},
     "output_type": "execute_result"
    }
   ],
   "source": [
    "unmapped_rows.shape"
   ]
  },
  {
   "cell_type": "code",
   "execution_count": 24,
   "metadata": {},
   "outputs": [],
   "source": [
    "unmapped_rows = unmapped_rows.rename(columns={'DrugBank ID': 'head_id', 'Name': 'head_name','ICD_11': 'tail_id', 'disease_name': 'tail_name'})"
   ]
  },
  {
   "cell_type": "code",
   "execution_count": 25,
   "metadata": {},
   "outputs": [],
   "source": [
    "unmapped_rows['head_type'] = 'drug'\n",
    "unmapped_rows['head_ref'] = 'DrugBank'\n",
    "unmapped_rows['tail_type'] = 'disease'\n",
    "unmapped_rows['tail_ref'] = 'ICD-11'\n",
    "unmapped_rows['predicate'] = 'ddii'"
   ]
  },
  {
   "cell_type": "code",
   "execution_count": 26,
   "metadata": {},
   "outputs": [],
   "source": [
    "unmapped_rows = unmapped_rows[['head_id', 'head_name', 'head_type','head_ref','tail_id', 'tail_name','tail_type','tail_ref','predicate', 'status']]"
   ]
  },
  {
   "cell_type": "code",
   "execution_count": 27,
   "metadata": {},
   "outputs": [
    {
     "data": {
      "text/plain": [
       "head_id      6999\n",
       "head_name    6999\n",
       "head_type       0\n",
       "head_ref        0\n",
       "tail_id      4812\n",
       "tail_name    4812\n",
       "tail_type       0\n",
       "tail_ref        0\n",
       "predicate       0\n",
       "status       4810\n",
       "dtype: int64"
      ]
     },
     "execution_count": 27,
     "metadata": {},
     "output_type": "execute_result"
    }
   ],
   "source": [
    "unmapped_rows.isna().sum()"
   ]
  },
  {
   "cell_type": "code",
   "execution_count": 28,
   "metadata": {},
   "outputs": [],
   "source": [
    "unmapped_rows.dropna(inplace=True)"
   ]
  },
  {
   "cell_type": "code",
   "execution_count": 29,
   "metadata": {},
   "outputs": [],
   "source": [
    "unmapped_rows.drop_duplicates(inplace=True)"
   ]
  },
  {
   "cell_type": "code",
   "execution_count": 30,
   "metadata": {},
   "outputs": [
    {
     "data": {
      "text/plain": [
       "(4954, 10)"
      ]
     },
     "execution_count": 30,
     "metadata": {},
     "output_type": "execute_result"
    }
   ],
   "source": [
    "unmapped_rows.shape"
   ]
  },
  {
   "cell_type": "code",
   "execution_count": 31,
   "metadata": {},
   "outputs": [],
   "source": [
    "df_concat = pd.concat([df_orpha, unmapped_rows], axis=0)"
   ]
  },
  {
   "cell_type": "code",
   "execution_count": 32,
   "metadata": {},
   "outputs": [
    {
     "data": {
      "text/plain": [
       "(5984, 10)"
      ]
     },
     "execution_count": 32,
     "metadata": {},
     "output_type": "execute_result"
    }
   ],
   "source": [
    "df_concat.shape"
   ]
  },
  {
   "cell_type": "code",
   "execution_count": 33,
   "metadata": {},
   "outputs": [
    {
     "data": {
      "text/plain": [
       "head_id      0\n",
       "head_name    0\n",
       "head_type    0\n",
       "head_ref     0\n",
       "tail_id      0\n",
       "tail_name    0\n",
       "tail_type    0\n",
       "tail_ref     0\n",
       "predicate    0\n",
       "status       0\n",
       "dtype: int64"
      ]
     },
     "execution_count": 33,
     "metadata": {},
     "output_type": "execute_result"
    }
   ],
   "source": [
    "df_concat.isna().sum()"
   ]
  },
  {
   "cell_type": "code",
   "execution_count": 34,
   "metadata": {},
   "outputs": [
    {
     "data": {
      "text/html": [
       "<div>\n",
       "<style scoped>\n",
       "    .dataframe tbody tr th:only-of-type {\n",
       "        vertical-align: middle;\n",
       "    }\n",
       "\n",
       "    .dataframe tbody tr th {\n",
       "        vertical-align: top;\n",
       "    }\n",
       "\n",
       "    .dataframe thead th {\n",
       "        text-align: right;\n",
       "    }\n",
       "</style>\n",
       "<table border=\"1\" class=\"dataframe\">\n",
       "  <thead>\n",
       "    <tr style=\"text-align: right;\">\n",
       "      <th></th>\n",
       "      <th>head_id</th>\n",
       "      <th>head_name</th>\n",
       "      <th>head_type</th>\n",
       "      <th>head_ref</th>\n",
       "      <th>tail_id</th>\n",
       "      <th>tail_name</th>\n",
       "      <th>tail_type</th>\n",
       "      <th>tail_ref</th>\n",
       "      <th>predicate</th>\n",
       "      <th>status</th>\n",
       "    </tr>\n",
       "  </thead>\n",
       "  <tbody>\n",
       "    <tr>\n",
       "      <th>10</th>\n",
       "      <td>DB08604</td>\n",
       "      <td>Triclosan</td>\n",
       "      <td>drug</td>\n",
       "      <td>DrugBank</td>\n",
       "      <td>673.0</td>\n",
       "      <td>Malaria</td>\n",
       "      <td>disease</td>\n",
       "      <td>Orphanet</td>\n",
       "      <td>ddii</td>\n",
       "      <td>Approved</td>\n",
       "    </tr>\n",
       "  </tbody>\n",
       "</table>\n",
       "</div>"
      ],
      "text/plain": [
       "    head_id  head_name head_type  head_ref tail_id tail_name tail_type  \\\n",
       "10  DB08604  Triclosan      drug  DrugBank   673.0   Malaria   disease   \n",
       "\n",
       "    tail_ref predicate    status  \n",
       "10  Orphanet      ddii  Approved  "
      ]
     },
     "execution_count": 34,
     "metadata": {},
     "output_type": "execute_result"
    }
   ],
   "source": [
    "df_concat.head(1)"
   ]
  },
  {
   "cell_type": "markdown",
   "metadata": {},
   "source": [
    "Separating into Positive and Negative Pairs"
   ]
  },
  {
   "cell_type": "code",
   "execution_count": 35,
   "metadata": {},
   "outputs": [],
   "source": [
    "keywords = ['Discontinued', 'Withdrawn', 'Terminated']"
   ]
  },
  {
   "cell_type": "code",
   "execution_count": 36,
   "metadata": {},
   "outputs": [],
   "source": [
    "discontinued_df = df_concat[df_concat['status'].str.contains('|'.join(keywords), case=False, na=False)]"
   ]
  },
  {
   "cell_type": "code",
   "execution_count": 37,
   "metadata": {},
   "outputs": [
    {
     "data": {
      "text/plain": [
       "(451, 10)"
      ]
     },
     "execution_count": 37,
     "metadata": {},
     "output_type": "execute_result"
    }
   ],
   "source": [
    "discontinued_df.shape"
   ]
  },
  {
   "cell_type": "code",
   "execution_count": 38,
   "metadata": {},
   "outputs": [],
   "source": [
    "active_df = df_concat[~df_concat['status'].str.contains('|'.join(keywords), case=False, na=False)]"
   ]
  },
  {
   "cell_type": "code",
   "execution_count": 39,
   "metadata": {},
   "outputs": [
    {
     "data": {
      "text/plain": [
       "(5533, 10)"
      ]
     },
     "execution_count": 39,
     "metadata": {},
     "output_type": "execute_result"
    }
   ],
   "source": [
    "active_df.shape"
   ]
  },
  {
   "cell_type": "code",
   "execution_count": 40,
   "metadata": {},
   "outputs": [],
   "source": [
    "discontinued_df = discontinued_df.iloc[:, :-1]\n",
    "active_df = active_df.iloc[:, :-1]"
   ]
  },
  {
   "cell_type": "code",
   "execution_count": 41,
   "metadata": {},
   "outputs": [],
   "source": [
    "discontinued_df['predicate'] = discontinued_df['predicate'].replace('ddii', 'nddii')"
   ]
  },
  {
   "cell_type": "code",
   "execution_count": 42,
   "metadata": {},
   "outputs": [
    {
     "data": {
      "text/html": [
       "<div>\n",
       "<style scoped>\n",
       "    .dataframe tbody tr th:only-of-type {\n",
       "        vertical-align: middle;\n",
       "    }\n",
       "\n",
       "    .dataframe tbody tr th {\n",
       "        vertical-align: top;\n",
       "    }\n",
       "\n",
       "    .dataframe thead th {\n",
       "        text-align: right;\n",
       "    }\n",
       "</style>\n",
       "<table border=\"1\" class=\"dataframe\">\n",
       "  <thead>\n",
       "    <tr style=\"text-align: right;\">\n",
       "      <th></th>\n",
       "      <th>head_id</th>\n",
       "      <th>head_name</th>\n",
       "      <th>head_type</th>\n",
       "      <th>head_ref</th>\n",
       "      <th>tail_id</th>\n",
       "      <th>tail_name</th>\n",
       "      <th>tail_type</th>\n",
       "      <th>tail_ref</th>\n",
       "      <th>predicate</th>\n",
       "    </tr>\n",
       "  </thead>\n",
       "  <tbody>\n",
       "    <tr>\n",
       "      <th>111</th>\n",
       "      <td>DB09073</td>\n",
       "      <td>Palbociclib</td>\n",
       "      <td>drug</td>\n",
       "      <td>DrugBank</td>\n",
       "      <td>3140.0</td>\n",
       "      <td>Schizophrenia</td>\n",
       "      <td>disease</td>\n",
       "      <td>Orphanet</td>\n",
       "      <td>nddii</td>\n",
       "    </tr>\n",
       "  </tbody>\n",
       "</table>\n",
       "</div>"
      ],
      "text/plain": [
       "     head_id    head_name head_type  head_ref tail_id      tail_name  \\\n",
       "111  DB09073  Palbociclib      drug  DrugBank  3140.0  Schizophrenia   \n",
       "\n",
       "    tail_type  tail_ref predicate  \n",
       "111   disease  Orphanet     nddii  "
      ]
     },
     "execution_count": 42,
     "metadata": {},
     "output_type": "execute_result"
    }
   ],
   "source": [
    "discontinued_df.head(1)"
   ]
  },
  {
   "cell_type": "code",
   "execution_count": 43,
   "metadata": {},
   "outputs": [
    {
     "data": {
      "text/html": [
       "<div>\n",
       "<style scoped>\n",
       "    .dataframe tbody tr th:only-of-type {\n",
       "        vertical-align: middle;\n",
       "    }\n",
       "\n",
       "    .dataframe tbody tr th {\n",
       "        vertical-align: top;\n",
       "    }\n",
       "\n",
       "    .dataframe thead th {\n",
       "        text-align: right;\n",
       "    }\n",
       "</style>\n",
       "<table border=\"1\" class=\"dataframe\">\n",
       "  <thead>\n",
       "    <tr style=\"text-align: right;\">\n",
       "      <th></th>\n",
       "      <th>head_id</th>\n",
       "      <th>head_name</th>\n",
       "      <th>head_type</th>\n",
       "      <th>head_ref</th>\n",
       "      <th>tail_id</th>\n",
       "      <th>tail_name</th>\n",
       "      <th>tail_type</th>\n",
       "      <th>tail_ref</th>\n",
       "      <th>predicate</th>\n",
       "    </tr>\n",
       "  </thead>\n",
       "  <tbody>\n",
       "    <tr>\n",
       "      <th>10</th>\n",
       "      <td>DB08604</td>\n",
       "      <td>Triclosan</td>\n",
       "      <td>drug</td>\n",
       "      <td>DrugBank</td>\n",
       "      <td>673.0</td>\n",
       "      <td>Malaria</td>\n",
       "      <td>disease</td>\n",
       "      <td>Orphanet</td>\n",
       "      <td>ddii</td>\n",
       "    </tr>\n",
       "  </tbody>\n",
       "</table>\n",
       "</div>"
      ],
      "text/plain": [
       "    head_id  head_name head_type  head_ref tail_id tail_name tail_type  \\\n",
       "10  DB08604  Triclosan      drug  DrugBank   673.0   Malaria   disease   \n",
       "\n",
       "    tail_ref predicate  \n",
       "10  Orphanet      ddii  "
      ]
     },
     "execution_count": 43,
     "metadata": {},
     "output_type": "execute_result"
    }
   ],
   "source": [
    "active_df.head(1)"
   ]
  },
  {
   "cell_type": "code",
   "execution_count": null,
   "metadata": {},
   "outputs": [],
   "source": [
    "discontinued_df.to_csv(r'...path_to\\RDsqr-KG\\KG_datasets\\nddii.csv', index=False)\n",
    "active_df.to_csv(r'...path_to\\RDsqr-KG\\KG_datasets\\ddii.csv', index=False)"
   ]
  },
  {
   "cell_type": "code",
   "execution_count": null,
   "metadata": {},
   "outputs": [],
   "source": []
  }
 ],
 "metadata": {
  "kernelspec": {
   "display_name": "base",
   "language": "python",
   "name": "python3"
  },
  "language_info": {
   "codemirror_mode": {
    "name": "ipython",
    "version": 3
   },
   "file_extension": ".py",
   "mimetype": "text/x-python",
   "name": "python",
   "nbconvert_exporter": "python",
   "pygments_lexer": "ipython3",
   "version": "3.12.4"
  }
 },
 "nbformat": 4,
 "nbformat_minor": 2
}
