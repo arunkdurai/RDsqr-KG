{
 "cells": [
  {
   "cell_type": "markdown",
   "metadata": {},
   "source": [
    "Drug Side-Effect Mapping from SIDER"
   ]
  },
  {
   "cell_type": "code",
   "execution_count": 1,
   "metadata": {},
   "outputs": [],
   "source": [
    "import pandas as pd"
   ]
  },
  {
   "cell_type": "code",
   "execution_count": null,
   "metadata": {},
   "outputs": [],
   "source": [
    "sider_atc = pd.read_csv(r\"...path_to\\RDsqr-KG\\Preprocessed_datasets\\drug_atc_sider.csv\")\n",
    "drugbank_atc = pd.read_csv(r\"...path_to\\RDsqr-KG\\Preprocessed_datasets\\drug_atc_drugbank.csv\")\n",
    "drug_se = pd.read_csv(r\"...path_to\\RDsqr-KG\\Preprocessed_datasets\\drug_se.csv\")\n",
    "drug_status = pd.read_csv(r\"...path_to\\RDsqr-KG\\Preprocessed_datasets\\drug_status.csv\")\n",
    "drug_map = pd.read_csv(r\"...path_to\\RDsqr-KG\\Datasets\\Vocabulary_links\\drug links.csv\")\n"
   ]
  },
  {
   "cell_type": "code",
   "execution_count": 3,
   "metadata": {},
   "outputs": [],
   "source": [
    "sider_atc['CID'] = sider_atc['CID'].astype(str)\n",
    "drug_se['CID'] = drug_se['CID'].astype(str)"
   ]
  },
  {
   "cell_type": "code",
   "execution_count": 4,
   "metadata": {},
   "outputs": [],
   "source": [
    "df_atcdb = pd.merge(sider_atc, drugbank_atc, left_on='atc', right_on='atc_code', how='left')\n",
    "df_atcdb = df_atcdb.rename(columns={'drugbank_id': 'head_id'})"
   ]
  },
  {
   "cell_type": "code",
   "execution_count": 5,
   "metadata": {},
   "outputs": [
    {
     "data": {
      "text/html": [
       "<div>\n",
       "<style scoped>\n",
       "    .dataframe tbody tr th:only-of-type {\n",
       "        vertical-align: middle;\n",
       "    }\n",
       "\n",
       "    .dataframe tbody tr th {\n",
       "        vertical-align: top;\n",
       "    }\n",
       "\n",
       "    .dataframe thead th {\n",
       "        text-align: right;\n",
       "    }\n",
       "</style>\n",
       "<table border=\"1\" class=\"dataframe\">\n",
       "  <thead>\n",
       "    <tr style=\"text-align: right;\">\n",
       "      <th></th>\n",
       "      <th>drug_name</th>\n",
       "      <th>include</th>\n",
       "      <th>inclusion_types</th>\n",
       "    </tr>\n",
       "  </thead>\n",
       "  <tbody>\n",
       "    <tr>\n",
       "      <th>0</th>\n",
       "      <td>DB00002</td>\n",
       "      <td>True</td>\n",
       "      <td>approved</td>\n",
       "    </tr>\n",
       "  </tbody>\n",
       "</table>\n",
       "</div>"
      ],
      "text/plain": [
       "  drug_name  include inclusion_types\n",
       "0   DB00002     True        approved"
      ]
     },
     "execution_count": 5,
     "metadata": {},
     "output_type": "execute_result"
    }
   ],
   "source": [
    "drug_status.head(1)"
   ]
  },
  {
   "cell_type": "code",
   "execution_count": 6,
   "metadata": {},
   "outputs": [],
   "source": [
    "df_merged = pd.merge(df_atcdb, drug_status, left_on='head_id', right_on='drug_name', how='left')"
   ]
  },
  {
   "cell_type": "code",
   "execution_count": 7,
   "metadata": {},
   "outputs": [],
   "source": [
    "df_merged = pd.merge(df_merged, drug_map, left_on='head_id', right_on='DrugBank ID', how='left')\n",
    "df_merged = df_merged.rename(columns={'Name': 'head_name'})"
   ]
  },
  {
   "cell_type": "code",
   "execution_count": 8,
   "metadata": {},
   "outputs": [
    {
     "data": {
      "text/html": [
       "<div>\n",
       "<style scoped>\n",
       "    .dataframe tbody tr th:only-of-type {\n",
       "        vertical-align: middle;\n",
       "    }\n",
       "\n",
       "    .dataframe tbody tr th {\n",
       "        vertical-align: top;\n",
       "    }\n",
       "\n",
       "    .dataframe thead th {\n",
       "        text-align: right;\n",
       "    }\n",
       "</style>\n",
       "<table border=\"1\" class=\"dataframe\">\n",
       "  <thead>\n",
       "    <tr style=\"text-align: right;\">\n",
       "      <th></th>\n",
       "      <th>CID</th>\n",
       "      <th>atc</th>\n",
       "      <th>Unnamed: 0</th>\n",
       "      <th>head_id</th>\n",
       "      <th>atc_code</th>\n",
       "      <th>drug_name</th>\n",
       "      <th>include</th>\n",
       "      <th>inclusion_types</th>\n",
       "      <th>DrugBank ID</th>\n",
       "      <th>head_name</th>\n",
       "      <th>...</th>\n",
       "      <th>GenBank ID</th>\n",
       "      <th>DPD ID</th>\n",
       "      <th>RxList Link</th>\n",
       "      <th>Pdrhealth Link</th>\n",
       "      <th>Wikipedia ID</th>\n",
       "      <th>Drugs.com Link</th>\n",
       "      <th>NDC ID</th>\n",
       "      <th>ChemSpider ID</th>\n",
       "      <th>BindingDB ID</th>\n",
       "      <th>TTD ID</th>\n",
       "    </tr>\n",
       "  </thead>\n",
       "  <tbody>\n",
       "    <tr>\n",
       "      <th>0</th>\n",
       "      <td>100000119</td>\n",
       "      <td>L03AA03</td>\n",
       "      <td>3014.0</td>\n",
       "      <td>DB12525</td>\n",
       "      <td>L03AA03</td>\n",
       "      <td>DB12525</td>\n",
       "      <td>True</td>\n",
       "      <td>investigational</td>\n",
       "      <td>DB12525</td>\n",
       "      <td>Molgramostim</td>\n",
       "      <td>...</td>\n",
       "      <td>NaN</td>\n",
       "      <td>NaN</td>\n",
       "      <td>NaN</td>\n",
       "      <td>NaN</td>\n",
       "      <td>Molgramostim</td>\n",
       "      <td>NaN</td>\n",
       "      <td>NaN</td>\n",
       "      <td>NaN</td>\n",
       "      <td>NaN</td>\n",
       "      <td>NaN</td>\n",
       "    </tr>\n",
       "  </tbody>\n",
       "</table>\n",
       "<p>1 rows × 31 columns</p>\n",
       "</div>"
      ],
      "text/plain": [
       "         CID      atc  Unnamed: 0  head_id atc_code drug_name include  \\\n",
       "0  100000119  L03AA03      3014.0  DB12525  L03AA03   DB12525    True   \n",
       "\n",
       "   inclusion_types DrugBank ID     head_name  ... GenBank ID DPD ID  \\\n",
       "0  investigational     DB12525  Molgramostim  ...        NaN    NaN   \n",
       "\n",
       "  RxList Link Pdrhealth Link  Wikipedia ID  Drugs.com Link  NDC ID  \\\n",
       "0         NaN            NaN  Molgramostim             NaN     NaN   \n",
       "\n",
       "  ChemSpider ID BindingDB ID TTD ID  \n",
       "0           NaN          NaN    NaN  \n",
       "\n",
       "[1 rows x 31 columns]"
      ]
     },
     "execution_count": 8,
     "metadata": {},
     "output_type": "execute_result"
    }
   ],
   "source": [
    "df_merged.head(1)"
   ]
  },
  {
   "cell_type": "code",
   "execution_count": 9,
   "metadata": {},
   "outputs": [],
   "source": [
    "df_merged =df_merged[['CID','atc','head_id','atc_code','drug_name','head_name']]"
   ]
  },
  {
   "cell_type": "code",
   "execution_count": 10,
   "metadata": {},
   "outputs": [],
   "source": [
    "df_drug_se = pd.merge(df_merged, drug_se, left_on='CID', right_on='CID', how='left')\n",
    "df_drug_se = df_drug_se.rename(columns={'UMLS_meddra': 'tail_id', 'side_effect':'tail_name'})"
   ]
  },
  {
   "cell_type": "code",
   "execution_count": 11,
   "metadata": {},
   "outputs": [],
   "source": [
    "df_drug_se['head_type'] = 'drug'\n",
    "df_drug_se['head_ref'] = 'DrugBank'\n",
    "df_drug_se['tail_type'] = 'side_effect'\n",
    "df_drug_se['tail_ref'] = 'UMLS'\n",
    "df_drug_se['predicate'] = 'dse'"
   ]
  },
  {
   "cell_type": "code",
   "execution_count": 12,
   "metadata": {},
   "outputs": [],
   "source": [
    "df_drug_se = df_drug_se[['head_id', 'head_name', 'head_type','head_ref','tail_id', 'tail_name','tail_type','tail_ref','predicate']]"
   ]
  },
  {
   "cell_type": "code",
   "execution_count": 13,
   "metadata": {},
   "outputs": [
    {
     "data": {
      "text/plain": [
       "(384862, 9)"
      ]
     },
     "execution_count": 13,
     "metadata": {},
     "output_type": "execute_result"
    }
   ],
   "source": [
    "df_drug_se.shape"
   ]
  },
  {
   "cell_type": "code",
   "execution_count": 14,
   "metadata": {},
   "outputs": [
    {
     "data": {
      "text/plain": [
       "head_id      119069\n",
       "head_name    119069\n",
       "head_type         0\n",
       "head_ref          0\n",
       "tail_id        1069\n",
       "tail_name         0\n",
       "tail_type         0\n",
       "tail_ref          0\n",
       "predicate         0\n",
       "dtype: int64"
      ]
     },
     "execution_count": 14,
     "metadata": {},
     "output_type": "execute_result"
    }
   ],
   "source": [
    "df_drug_se.isna().sum()"
   ]
  },
  {
   "cell_type": "code",
   "execution_count": 15,
   "metadata": {},
   "outputs": [],
   "source": [
    "df_drug_se.dropna(inplace=True)"
   ]
  },
  {
   "cell_type": "code",
   "execution_count": 16,
   "metadata": {},
   "outputs": [
    {
     "data": {
      "text/plain": [
       "head_id      0\n",
       "head_name    0\n",
       "head_type    0\n",
       "head_ref     0\n",
       "tail_id      0\n",
       "tail_name    0\n",
       "tail_type    0\n",
       "tail_ref     0\n",
       "predicate    0\n",
       "dtype: int64"
      ]
     },
     "execution_count": 16,
     "metadata": {},
     "output_type": "execute_result"
    }
   ],
   "source": [
    "df_drug_se.isna().sum()"
   ]
  },
  {
   "cell_type": "code",
   "execution_count": 17,
   "metadata": {},
   "outputs": [],
   "source": [
    "df_drug_se.drop_duplicates(inplace=True)"
   ]
  },
  {
   "cell_type": "code",
   "execution_count": 18,
   "metadata": {},
   "outputs": [
    {
     "data": {
      "text/plain": [
       "(113799, 9)"
      ]
     },
     "execution_count": 18,
     "metadata": {},
     "output_type": "execute_result"
    }
   ],
   "source": [
    "df_drug_se.shape"
   ]
  },
  {
   "cell_type": "code",
   "execution_count": 19,
   "metadata": {},
   "outputs": [
    {
     "data": {
      "text/html": [
       "<div>\n",
       "<style scoped>\n",
       "    .dataframe tbody tr th:only-of-type {\n",
       "        vertical-align: middle;\n",
       "    }\n",
       "\n",
       "    .dataframe tbody tr th {\n",
       "        vertical-align: top;\n",
       "    }\n",
       "\n",
       "    .dataframe thead th {\n",
       "        text-align: right;\n",
       "    }\n",
       "</style>\n",
       "<table border=\"1\" class=\"dataframe\">\n",
       "  <thead>\n",
       "    <tr style=\"text-align: right;\">\n",
       "      <th></th>\n",
       "      <th>head_id</th>\n",
       "      <th>head_name</th>\n",
       "      <th>head_type</th>\n",
       "      <th>head_ref</th>\n",
       "      <th>tail_id</th>\n",
       "      <th>tail_name</th>\n",
       "      <th>tail_type</th>\n",
       "      <th>tail_ref</th>\n",
       "      <th>predicate</th>\n",
       "    </tr>\n",
       "  </thead>\n",
       "  <tbody>\n",
       "    <tr>\n",
       "      <th>0</th>\n",
       "      <td>DB12525</td>\n",
       "      <td>Molgramostim</td>\n",
       "      <td>drug</td>\n",
       "      <td>DrugBank</td>\n",
       "      <td>C0002792</td>\n",
       "      <td>Anaphylactic shock</td>\n",
       "      <td>side_effect</td>\n",
       "      <td>UMLS</td>\n",
       "      <td>dse</td>\n",
       "    </tr>\n",
       "  </tbody>\n",
       "</table>\n",
       "</div>"
      ],
      "text/plain": [
       "   head_id     head_name head_type  head_ref   tail_id           tail_name  \\\n",
       "0  DB12525  Molgramostim      drug  DrugBank  C0002792  Anaphylactic shock   \n",
       "\n",
       "     tail_type tail_ref predicate  \n",
       "0  side_effect     UMLS       dse  "
      ]
     },
     "execution_count": 19,
     "metadata": {},
     "output_type": "execute_result"
    }
   ],
   "source": [
    "df_drug_se.head(1)"
   ]
  },
  {
   "cell_type": "code",
   "execution_count": 20,
   "metadata": {},
   "outputs": [],
   "source": [
    "#df_drug_se.dtypes"
   ]
  },
  {
   "cell_type": "code",
   "execution_count": null,
   "metadata": {},
   "outputs": [],
   "source": [
    "df_drug_se.to_csv(r\"...path_to\\RDsqr-KG\\KG_datasets\\dse.csv\", index=False)"
   ]
  },
  {
   "cell_type": "code",
   "execution_count": null,
   "metadata": {},
   "outputs": [],
   "source": []
  }
 ],
 "metadata": {
  "kernelspec": {
   "display_name": "base",
   "language": "python",
   "name": "python3"
  },
  "language_info": {
   "codemirror_mode": {
    "name": "ipython",
    "version": 3
   },
   "file_extension": ".py",
   "mimetype": "text/x-python",
   "name": "python",
   "nbconvert_exporter": "python",
   "pygments_lexer": "ipython3",
   "version": "3.12.4"
  }
 },
 "nbformat": 4,
 "nbformat_minor": 2
}
