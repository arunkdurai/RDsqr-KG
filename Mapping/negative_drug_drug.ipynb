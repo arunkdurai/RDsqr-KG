{
 "cells": [
  {
   "cell_type": "markdown",
   "metadata": {},
   "source": [
    "Preprocessing Antagonistic Drug Interactions from DrugCombDB"
   ]
  },
  {
   "cell_type": "code",
   "execution_count": 1,
   "metadata": {},
   "outputs": [],
   "source": [
    "import pandas as pd"
   ]
  },
  {
   "cell_type": "code",
   "execution_count": null,
   "metadata": {},
   "outputs": [],
   "source": [
    "df_drug_comb = pd.read_excel(r\"...path_to\\RDsqr-KG\\Datasets\\DrugCombDB\\SynDrugComb_external.xlsx\", sheet_name='Drugbank_antagonism')\n",
    "df_drug_map = pd.read_csv(r\"...path_to\\RDsqr-KG\\Datasets\\Vocabulary_links\\drug links.csv\")\n",
    "df_drug_status = pd.read_csv(r\"...path_to\\RDsqr-KG\\Preprocessed_datasets\\drug_status.csv\")"
   ]
  },
  {
   "cell_type": "code",
   "execution_count": 3,
   "metadata": {},
   "outputs": [
    {
     "data": {
      "text/html": [
       "<div>\n",
       "<style scoped>\n",
       "    .dataframe tbody tr th:only-of-type {\n",
       "        vertical-align: middle;\n",
       "    }\n",
       "\n",
       "    .dataframe tbody tr th {\n",
       "        vertical-align: top;\n",
       "    }\n",
       "\n",
       "    .dataframe thead th {\n",
       "        text-align: right;\n",
       "    }\n",
       "</style>\n",
       "<table border=\"1\" class=\"dataframe\">\n",
       "  <thead>\n",
       "    <tr style=\"text-align: right;\">\n",
       "      <th></th>\n",
       "      <th>Interaction_A(DrugBank_ID)</th>\n",
       "      <th>Interaction_B(DrugBank_ID)</th>\n",
       "    </tr>\n",
       "  </thead>\n",
       "  <tbody>\n",
       "    <tr>\n",
       "      <th>0</th>\n",
       "      <td>DB01183</td>\n",
       "      <td>DB06800</td>\n",
       "    </tr>\n",
       "    <tr>\n",
       "      <th>1</th>\n",
       "      <td>DB01250</td>\n",
       "      <td>DB01109</td>\n",
       "    </tr>\n",
       "    <tr>\n",
       "      <th>2</th>\n",
       "      <td>DB01586</td>\n",
       "      <td>DB01054</td>\n",
       "    </tr>\n",
       "    <tr>\n",
       "      <th>3</th>\n",
       "      <td>DB01212</td>\n",
       "      <td>DB01032</td>\n",
       "    </tr>\n",
       "    <tr>\n",
       "      <th>4</th>\n",
       "      <td>DB01326</td>\n",
       "      <td>DB01032</td>\n",
       "    </tr>\n",
       "  </tbody>\n",
       "</table>\n",
       "</div>"
      ],
      "text/plain": [
       "  Interaction_A(DrugBank_ID) Interaction_B(DrugBank_ID)\n",
       "0                    DB01183                    DB06800\n",
       "1                    DB01250                    DB01109\n",
       "2                    DB01586                    DB01054\n",
       "3                    DB01212                    DB01032\n",
       "4                    DB01326                    DB01032"
      ]
     },
     "execution_count": 3,
     "metadata": {},
     "output_type": "execute_result"
    }
   ],
   "source": [
    "df_drug_comb.head()"
   ]
  },
  {
   "cell_type": "code",
   "execution_count": 4,
   "metadata": {},
   "outputs": [],
   "source": [
    "df_drug_comb = df_drug_comb[df_drug_comb['Interaction_A(DrugBank_ID)'].str.startswith('DB', na=False)]"
   ]
  },
  {
   "cell_type": "code",
   "execution_count": 5,
   "metadata": {},
   "outputs": [
    {
     "data": {
      "text/plain": [
       "Interaction_A(DrugBank_ID)    0\n",
       "Interaction_B(DrugBank_ID)    0\n",
       "dtype: int64"
      ]
     },
     "execution_count": 5,
     "metadata": {},
     "output_type": "execute_result"
    }
   ],
   "source": [
    "df_drug_comb.isna().sum()"
   ]
  },
  {
   "cell_type": "code",
   "execution_count": 6,
   "metadata": {},
   "outputs": [],
   "source": [
    "df_drug_comb.dropna(inplace=True)"
   ]
  },
  {
   "cell_type": "code",
   "execution_count": 7,
   "metadata": {},
   "outputs": [
    {
     "data": {
      "text/plain": [
       "Interaction_A(DrugBank_ID)    0\n",
       "Interaction_B(DrugBank_ID)    0\n",
       "dtype: int64"
      ]
     },
     "execution_count": 7,
     "metadata": {},
     "output_type": "execute_result"
    }
   ],
   "source": [
    "df_drug_comb.isna().sum()"
   ]
  },
  {
   "cell_type": "code",
   "execution_count": 8,
   "metadata": {},
   "outputs": [],
   "source": [
    "df_drug_comb.drop_duplicates(inplace=True)"
   ]
  },
  {
   "cell_type": "code",
   "execution_count": 9,
   "metadata": {},
   "outputs": [
    {
     "data": {
      "text/plain": [
       "(13397, 2)"
      ]
     },
     "execution_count": 9,
     "metadata": {},
     "output_type": "execute_result"
    }
   ],
   "source": [
    "df_drug_comb.shape"
   ]
  },
  {
   "cell_type": "code",
   "execution_count": 10,
   "metadata": {},
   "outputs": [],
   "source": [
    "df_nddi = pd.merge(df_drug_comb, df_drug_map, left_on='Interaction_A(DrugBank_ID)', right_on='DrugBank ID', how='left')"
   ]
  },
  {
   "cell_type": "code",
   "execution_count": 11,
   "metadata": {},
   "outputs": [],
   "source": [
    "df_nddi = pd.merge(df_nddi, df_drug_map[['DrugBank ID', 'Name']], left_on='Interaction_B(DrugBank_ID)', right_on='DrugBank ID', how='left')"
   ]
  },
  {
   "cell_type": "code",
   "execution_count": 12,
   "metadata": {},
   "outputs": [],
   "source": [
    "#include only approved/investigational/experimental\n",
    "df_nddi = pd.merge(df_nddi, df_drug_status, left_on='Interaction_A(DrugBank_ID)', right_on='drug_name', how='left')\n",
    "df_nddi = pd.merge(df_nddi, df_drug_status, left_on='Interaction_B(DrugBank_ID)', right_on='drug_name', how='left')"
   ]
  },
  {
   "cell_type": "code",
   "execution_count": 13,
   "metadata": {},
   "outputs": [
    {
     "data": {
      "text/html": [
       "<div>\n",
       "<style scoped>\n",
       "    .dataframe tbody tr th:only-of-type {\n",
       "        vertical-align: middle;\n",
       "    }\n",
       "\n",
       "    .dataframe tbody tr th {\n",
       "        vertical-align: top;\n",
       "    }\n",
       "\n",
       "    .dataframe thead th {\n",
       "        text-align: right;\n",
       "    }\n",
       "</style>\n",
       "<table border=\"1\" class=\"dataframe\">\n",
       "  <thead>\n",
       "    <tr style=\"text-align: right;\">\n",
       "      <th></th>\n",
       "      <th>Interaction_A(DrugBank_ID)</th>\n",
       "      <th>Interaction_B(DrugBank_ID)</th>\n",
       "      <th>DrugBank ID_x</th>\n",
       "      <th>Name_x</th>\n",
       "      <th>CAS Number</th>\n",
       "      <th>Drug Type</th>\n",
       "      <th>KEGG Compound ID</th>\n",
       "      <th>KEGG Drug ID</th>\n",
       "      <th>PubChem Compound ID</th>\n",
       "      <th>PubChem Substance ID</th>\n",
       "      <th>...</th>\n",
       "      <th>BindingDB ID</th>\n",
       "      <th>TTD ID</th>\n",
       "      <th>DrugBank ID_y</th>\n",
       "      <th>Name_y</th>\n",
       "      <th>drug_name_x</th>\n",
       "      <th>include_x</th>\n",
       "      <th>inclusion_types_x</th>\n",
       "      <th>drug_name_y</th>\n",
       "      <th>include_y</th>\n",
       "      <th>inclusion_types_y</th>\n",
       "    </tr>\n",
       "  </thead>\n",
       "  <tbody>\n",
       "    <tr>\n",
       "      <th>0</th>\n",
       "      <td>DB01183</td>\n",
       "      <td>DB06800</td>\n",
       "      <td>DB01183</td>\n",
       "      <td>Naloxone</td>\n",
       "      <td>465-65-6</td>\n",
       "      <td>SmallMoleculeDrug</td>\n",
       "      <td>C07252</td>\n",
       "      <td>D08249</td>\n",
       "      <td>5284596.0</td>\n",
       "      <td>46508816.0</td>\n",
       "      <td>...</td>\n",
       "      <td>54795.0</td>\n",
       "      <td>DAP000097</td>\n",
       "      <td>DB06800</td>\n",
       "      <td>Methylnaltrexone</td>\n",
       "      <td>NaN</td>\n",
       "      <td>NaN</td>\n",
       "      <td>NaN</td>\n",
       "      <td>DB06800</td>\n",
       "      <td>True</td>\n",
       "      <td>approved</td>\n",
       "    </tr>\n",
       "    <tr>\n",
       "      <th>1</th>\n",
       "      <td>DB01250</td>\n",
       "      <td>DB01109</td>\n",
       "      <td>DB01250</td>\n",
       "      <td>Olsalazine</td>\n",
       "      <td>15722-48-2</td>\n",
       "      <td>SmallMoleculeDrug</td>\n",
       "      <td>C07323</td>\n",
       "      <td>D00727</td>\n",
       "      <td>6003770.0</td>\n",
       "      <td>46506356.0</td>\n",
       "      <td>...</td>\n",
       "      <td>NaN</td>\n",
       "      <td>NaN</td>\n",
       "      <td>DB01109</td>\n",
       "      <td>Heparin</td>\n",
       "      <td>DB01250</td>\n",
       "      <td>True</td>\n",
       "      <td>approved</td>\n",
       "      <td>DB01109</td>\n",
       "      <td>True</td>\n",
       "      <td>approved, investigational</td>\n",
       "    </tr>\n",
       "    <tr>\n",
       "      <th>2</th>\n",
       "      <td>DB01586</td>\n",
       "      <td>DB01054</td>\n",
       "      <td>DB01586</td>\n",
       "      <td>Ursodeoxycholic acid</td>\n",
       "      <td>128-13-2</td>\n",
       "      <td>SmallMoleculeDrug</td>\n",
       "      <td>C07880</td>\n",
       "      <td>D00734</td>\n",
       "      <td>31401.0</td>\n",
       "      <td>46508795.0</td>\n",
       "      <td>...</td>\n",
       "      <td>53721.0</td>\n",
       "      <td>DNC000420</td>\n",
       "      <td>DB01054</td>\n",
       "      <td>Nitrendipine</td>\n",
       "      <td>DB01586</td>\n",
       "      <td>True</td>\n",
       "      <td>approved, investigational</td>\n",
       "      <td>DB01054</td>\n",
       "      <td>True</td>\n",
       "      <td>approved, investigational</td>\n",
       "    </tr>\n",
       "    <tr>\n",
       "      <th>3</th>\n",
       "      <td>DB01212</td>\n",
       "      <td>DB01032</td>\n",
       "      <td>DB01212</td>\n",
       "      <td>Ceftriaxone</td>\n",
       "      <td>73384-59-5</td>\n",
       "      <td>SmallMoleculeDrug</td>\n",
       "      <td>C06683</td>\n",
       "      <td>D07659</td>\n",
       "      <td>5479530.0</td>\n",
       "      <td>46506458.0</td>\n",
       "      <td>...</td>\n",
       "      <td>50103601.0</td>\n",
       "      <td>DAP000145</td>\n",
       "      <td>DB01032</td>\n",
       "      <td>Probenecid</td>\n",
       "      <td>DB01212</td>\n",
       "      <td>True</td>\n",
       "      <td>approved</td>\n",
       "      <td>DB01032</td>\n",
       "      <td>True</td>\n",
       "      <td>approved, investigational</td>\n",
       "    </tr>\n",
       "    <tr>\n",
       "      <th>4</th>\n",
       "      <td>DB01326</td>\n",
       "      <td>DB01032</td>\n",
       "      <td>DB01326</td>\n",
       "      <td>Cefamandole</td>\n",
       "      <td>34444-01-4</td>\n",
       "      <td>SmallMoleculeDrug</td>\n",
       "      <td>C06879</td>\n",
       "      <td>D02344</td>\n",
       "      <td>456255.0</td>\n",
       "      <td>46508882.0</td>\n",
       "      <td>...</td>\n",
       "      <td>50350468.0</td>\n",
       "      <td>DAP000448</td>\n",
       "      <td>DB01032</td>\n",
       "      <td>Probenecid</td>\n",
       "      <td>NaN</td>\n",
       "      <td>NaN</td>\n",
       "      <td>NaN</td>\n",
       "      <td>DB01032</td>\n",
       "      <td>True</td>\n",
       "      <td>approved, investigational</td>\n",
       "    </tr>\n",
       "  </tbody>\n",
       "</table>\n",
       "<p>5 rows × 33 columns</p>\n",
       "</div>"
      ],
      "text/plain": [
       "  Interaction_A(DrugBank_ID) Interaction_B(DrugBank_ID) DrugBank ID_x  \\\n",
       "0                    DB01183                    DB06800       DB01183   \n",
       "1                    DB01250                    DB01109       DB01250   \n",
       "2                    DB01586                    DB01054       DB01586   \n",
       "3                    DB01212                    DB01032       DB01212   \n",
       "4                    DB01326                    DB01032       DB01326   \n",
       "\n",
       "                 Name_x  CAS Number          Drug Type KEGG Compound ID  \\\n",
       "0              Naloxone    465-65-6  SmallMoleculeDrug           C07252   \n",
       "1            Olsalazine  15722-48-2  SmallMoleculeDrug           C07323   \n",
       "2  Ursodeoxycholic acid    128-13-2  SmallMoleculeDrug           C07880   \n",
       "3           Ceftriaxone  73384-59-5  SmallMoleculeDrug           C06683   \n",
       "4           Cefamandole  34444-01-4  SmallMoleculeDrug           C06879   \n",
       "\n",
       "  KEGG Drug ID  PubChem Compound ID  PubChem Substance ID  ...  BindingDB ID  \\\n",
       "0       D08249            5284596.0            46508816.0  ...       54795.0   \n",
       "1       D00727            6003770.0            46506356.0  ...           NaN   \n",
       "2       D00734              31401.0            46508795.0  ...       53721.0   \n",
       "3       D07659            5479530.0            46506458.0  ...    50103601.0   \n",
       "4       D02344             456255.0            46508882.0  ...    50350468.0   \n",
       "\n",
       "      TTD ID DrugBank ID_y            Name_y drug_name_x include_x  \\\n",
       "0  DAP000097       DB06800  Methylnaltrexone         NaN       NaN   \n",
       "1        NaN       DB01109           Heparin     DB01250      True   \n",
       "2  DNC000420       DB01054      Nitrendipine     DB01586      True   \n",
       "3  DAP000145       DB01032        Probenecid     DB01212      True   \n",
       "4  DAP000448       DB01032        Probenecid         NaN       NaN   \n",
       "\n",
       "           inclusion_types_x drug_name_y include_y          inclusion_types_y  \n",
       "0                        NaN     DB06800      True                   approved  \n",
       "1                   approved     DB01109      True  approved, investigational  \n",
       "2  approved, investigational     DB01054      True  approved, investigational  \n",
       "3                   approved     DB01032      True  approved, investigational  \n",
       "4                        NaN     DB01032      True  approved, investigational  \n",
       "\n",
       "[5 rows x 33 columns]"
      ]
     },
     "execution_count": 13,
     "metadata": {},
     "output_type": "execute_result"
    }
   ],
   "source": [
    "df_nddi.head()"
   ]
  },
  {
   "cell_type": "code",
   "execution_count": 14,
   "metadata": {},
   "outputs": [],
   "source": [
    "df_nddi = df_nddi[['drug_name_x','Name_x','drug_name_y','Name_y']]"
   ]
  },
  {
   "cell_type": "code",
   "execution_count": 15,
   "metadata": {},
   "outputs": [],
   "source": [
    "df_nddi = df_nddi.rename(columns={'drug_name_x': 'head_id', 'Name_x': 'head_name', 'drug_name_y': 'tail_id', 'Name_y': 'tail_name'})"
   ]
  },
  {
   "cell_type": "code",
   "execution_count": 16,
   "metadata": {},
   "outputs": [],
   "source": [
    "df_nddi['head_type'] = 'drug'\n",
    "df_nddi['head_ref'] = 'DrugBank'\n",
    "df_nddi['tail_type'] = 'drug'\n",
    "df_nddi['tail_ref'] = 'DrugBank'\n",
    "df_nddi['predicate'] = 'nddi' "
   ]
  },
  {
   "cell_type": "code",
   "execution_count": 17,
   "metadata": {},
   "outputs": [],
   "source": [
    "df_nddi = df_nddi[['head_id', 'head_name', 'head_type','head_ref','tail_id', 'tail_name','tail_type','tail_ref','predicate']]"
   ]
  },
  {
   "cell_type": "code",
   "execution_count": 18,
   "metadata": {},
   "outputs": [
    {
     "data": {
      "text/plain": [
       "head_id      3575\n",
       "head_name      37\n",
       "head_type       0\n",
       "head_ref        0\n",
       "tail_id      3332\n",
       "tail_name      56\n",
       "tail_type       0\n",
       "tail_ref        0\n",
       "predicate       0\n",
       "dtype: int64"
      ]
     },
     "execution_count": 18,
     "metadata": {},
     "output_type": "execute_result"
    }
   ],
   "source": [
    "df_nddi.isna().sum()"
   ]
  },
  {
   "cell_type": "code",
   "execution_count": 19,
   "metadata": {},
   "outputs": [],
   "source": [
    "df_nddi.dropna(inplace=True)"
   ]
  },
  {
   "cell_type": "code",
   "execution_count": 20,
   "metadata": {},
   "outputs": [
    {
     "data": {
      "text/plain": [
       "head_id      0\n",
       "head_name    0\n",
       "head_type    0\n",
       "head_ref     0\n",
       "tail_id      0\n",
       "tail_name    0\n",
       "tail_type    0\n",
       "tail_ref     0\n",
       "predicate    0\n",
       "dtype: int64"
      ]
     },
     "execution_count": 20,
     "metadata": {},
     "output_type": "execute_result"
    }
   ],
   "source": [
    "df_nddi.isna().sum()"
   ]
  },
  {
   "cell_type": "code",
   "execution_count": 21,
   "metadata": {},
   "outputs": [],
   "source": [
    "df_nddi.drop_duplicates(inplace=True)"
   ]
  },
  {
   "cell_type": "code",
   "execution_count": 22,
   "metadata": {},
   "outputs": [
    {
     "data": {
      "text/plain": [
       "(7408, 9)"
      ]
     },
     "execution_count": 22,
     "metadata": {},
     "output_type": "execute_result"
    }
   ],
   "source": [
    "df_nddi.shape"
   ]
  },
  {
   "cell_type": "code",
   "execution_count": 23,
   "metadata": {},
   "outputs": [],
   "source": [
    "#df_nddi.dtypes"
   ]
  },
  {
   "cell_type": "code",
   "execution_count": null,
   "metadata": {},
   "outputs": [],
   "source": [
    "df_nddi.to_csv(r\"...path_to\\RDsqr-KG\\KG_datasets\\nddi.csv\", index=False)"
   ]
  },
  {
   "cell_type": "code",
   "execution_count": null,
   "metadata": {},
   "outputs": [],
   "source": []
  }
 ],
 "metadata": {
  "kernelspec": {
   "display_name": "base",
   "language": "python",
   "name": "python3"
  },
  "language_info": {
   "codemirror_mode": {
    "name": "ipython",
    "version": 3
   },
   "file_extension": ".py",
   "mimetype": "text/x-python",
   "name": "python",
   "nbconvert_exporter": "python",
   "pygments_lexer": "ipython3",
   "version": "3.12.4"
  }
 },
 "nbformat": 4,
 "nbformat_minor": 2
}
