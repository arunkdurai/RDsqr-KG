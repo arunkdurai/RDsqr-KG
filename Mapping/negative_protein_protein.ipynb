{
 "cells": [
  {
   "cell_type": "markdown",
   "metadata": {},
   "source": [
    "Mapping UniProt IDs to NCBI IDs from Negatome"
   ]
  },
  {
   "cell_type": "code",
   "execution_count": 1,
   "metadata": {},
   "outputs": [],
   "source": [
    "import pandas as pd"
   ]
  },
  {
   "cell_type": "code",
   "execution_count": null,
   "metadata": {},
   "outputs": [],
   "source": [
    "df_negatome = pd.read_csv(r\"...path_to\\RDsqr-KG\\Datasets\\Negatome\\negatome_combined.txt\", sep='\\t',header=None, names=['proteinA', 'proteinB'])\n",
    "df_gene_map = pd.read_csv(r\"...path_to\\RDsqr-KG\\Datasets\\Vocabulary_links\\gene_links.csv\")"
   ]
  },
  {
   "cell_type": "code",
   "execution_count": 3,
   "metadata": {},
   "outputs": [],
   "source": [
    "df_gene_map['ncbi_id'] = df_gene_map['ncbi_id'].astype(str)"
   ]
  },
  {
   "cell_type": "code",
   "execution_count": 4,
   "metadata": {},
   "outputs": [
    {
     "data": {
      "text/html": [
       "<div>\n",
       "<style scoped>\n",
       "    .dataframe tbody tr th:only-of-type {\n",
       "        vertical-align: middle;\n",
       "    }\n",
       "\n",
       "    .dataframe tbody tr th {\n",
       "        vertical-align: top;\n",
       "    }\n",
       "\n",
       "    .dataframe thead th {\n",
       "        text-align: right;\n",
       "    }\n",
       "</style>\n",
       "<table border=\"1\" class=\"dataframe\">\n",
       "  <thead>\n",
       "    <tr style=\"text-align: right;\">\n",
       "      <th></th>\n",
       "      <th>proteinA</th>\n",
       "      <th>proteinB</th>\n",
       "    </tr>\n",
       "  </thead>\n",
       "  <tbody>\n",
       "    <tr>\n",
       "      <th>0</th>\n",
       "      <td>Q6ZNK6</td>\n",
       "      <td>Q9Y4K3</td>\n",
       "    </tr>\n",
       "    <tr>\n",
       "      <th>1</th>\n",
       "      <td>Q9NR31</td>\n",
       "      <td>Q15797</td>\n",
       "    </tr>\n",
       "    <tr>\n",
       "      <th>2</th>\n",
       "      <td>P11627</td>\n",
       "      <td>P53986</td>\n",
       "    </tr>\n",
       "    <tr>\n",
       "      <th>3</th>\n",
       "      <td>P33176</td>\n",
       "      <td>Q96EK5</td>\n",
       "    </tr>\n",
       "    <tr>\n",
       "      <th>4</th>\n",
       "      <td>Q9NPY3</td>\n",
       "      <td>P02745</td>\n",
       "    </tr>\n",
       "  </tbody>\n",
       "</table>\n",
       "</div>"
      ],
      "text/plain": [
       "  proteinA proteinB\n",
       "0   Q6ZNK6   Q9Y4K3\n",
       "1   Q9NR31   Q15797\n",
       "2   P11627   P53986\n",
       "3   P33176   Q96EK5\n",
       "4   Q9NPY3   P02745"
      ]
     },
     "execution_count": 4,
     "metadata": {},
     "output_type": "execute_result"
    }
   ],
   "source": [
    "df_negatome.head()"
   ]
  },
  {
   "cell_type": "code",
   "execution_count": 5,
   "metadata": {},
   "outputs": [],
   "source": [
    "df_nppi = pd.merge(df_negatome, df_gene_map, left_on='proteinA', right_on='UniProt_id', how='left')\n",
    "df_nppi = df_nppi.rename(columns={'ncbi_id': 'head_id', 'gene_name': 'head_name'})"
   ]
  },
  {
   "cell_type": "code",
   "execution_count": 6,
   "metadata": {},
   "outputs": [],
   "source": [
    "df_nppi = pd.merge(df_nppi, df_gene_map[['ncbi_id', 'gene_name','UniProt_id']], left_on='proteinB', right_on='UniProt_id', how='left')\n",
    "df_nppi = df_nppi.rename(columns={'ncbi_id': 'tail_id', 'gene_name': 'tail_name'})"
   ]
  },
  {
   "cell_type": "code",
   "execution_count": 7,
   "metadata": {},
   "outputs": [],
   "source": [
    "df_nppi['head_type'] = 'gene'\n",
    "df_nppi['head_ref'] = 'NCBI'\n",
    "df_nppi['tail_type'] = 'gene'\n",
    "df_nppi['tail_ref'] = 'NCBI'\n",
    "df_nppi['predicate'] = 'nppi' "
   ]
  },
  {
   "cell_type": "code",
   "execution_count": 8,
   "metadata": {},
   "outputs": [],
   "source": [
    "df_nppi = df_nppi[['head_id', 'head_name', 'head_type','head_ref','tail_id', 'tail_name','tail_type','tail_ref','predicate']]"
   ]
  },
  {
   "cell_type": "code",
   "execution_count": 9,
   "metadata": {},
   "outputs": [
    {
     "data": {
      "text/html": [
       "<div>\n",
       "<style scoped>\n",
       "    .dataframe tbody tr th:only-of-type {\n",
       "        vertical-align: middle;\n",
       "    }\n",
       "\n",
       "    .dataframe tbody tr th {\n",
       "        vertical-align: top;\n",
       "    }\n",
       "\n",
       "    .dataframe thead th {\n",
       "        text-align: right;\n",
       "    }\n",
       "</style>\n",
       "<table border=\"1\" class=\"dataframe\">\n",
       "  <thead>\n",
       "    <tr style=\"text-align: right;\">\n",
       "      <th></th>\n",
       "      <th>head_id</th>\n",
       "      <th>head_name</th>\n",
       "      <th>head_type</th>\n",
       "      <th>head_ref</th>\n",
       "      <th>tail_id</th>\n",
       "      <th>tail_name</th>\n",
       "      <th>tail_type</th>\n",
       "      <th>tail_ref</th>\n",
       "      <th>predicate</th>\n",
       "    </tr>\n",
       "  </thead>\n",
       "  <tbody>\n",
       "    <tr>\n",
       "      <th>0</th>\n",
       "      <td>497189</td>\n",
       "      <td>TIFA inhibitor</td>\n",
       "      <td>gene</td>\n",
       "      <td>NCBI</td>\n",
       "      <td>7189</td>\n",
       "      <td>TNF receptor associated factor 6</td>\n",
       "      <td>gene</td>\n",
       "      <td>NCBI</td>\n",
       "      <td>nppi</td>\n",
       "    </tr>\n",
       "    <tr>\n",
       "      <th>1</th>\n",
       "      <td>56681</td>\n",
       "      <td>secretion associated Ras related GTPase 1A</td>\n",
       "      <td>gene</td>\n",
       "      <td>NCBI</td>\n",
       "      <td>4086</td>\n",
       "      <td>SMAD family member 1</td>\n",
       "      <td>gene</td>\n",
       "      <td>NCBI</td>\n",
       "      <td>nppi</td>\n",
       "    </tr>\n",
       "    <tr>\n",
       "      <th>2</th>\n",
       "      <td>NaN</td>\n",
       "      <td>NaN</td>\n",
       "      <td>gene</td>\n",
       "      <td>NCBI</td>\n",
       "      <td>NaN</td>\n",
       "      <td>NaN</td>\n",
       "      <td>gene</td>\n",
       "      <td>NCBI</td>\n",
       "      <td>nppi</td>\n",
       "    </tr>\n",
       "    <tr>\n",
       "      <th>3</th>\n",
       "      <td>3799</td>\n",
       "      <td>kinesin family member 5B</td>\n",
       "      <td>gene</td>\n",
       "      <td>NCBI</td>\n",
       "      <td>26128</td>\n",
       "      <td>kinesin family binding protein</td>\n",
       "      <td>gene</td>\n",
       "      <td>NCBI</td>\n",
       "      <td>nppi</td>\n",
       "    </tr>\n",
       "    <tr>\n",
       "      <th>4</th>\n",
       "      <td>22918</td>\n",
       "      <td>CD93 molecule</td>\n",
       "      <td>gene</td>\n",
       "      <td>NCBI</td>\n",
       "      <td>712</td>\n",
       "      <td>complement C1q A chain</td>\n",
       "      <td>gene</td>\n",
       "      <td>NCBI</td>\n",
       "      <td>nppi</td>\n",
       "    </tr>\n",
       "  </tbody>\n",
       "</table>\n",
       "</div>"
      ],
      "text/plain": [
       "  head_id                                   head_name head_type head_ref  \\\n",
       "0  497189                              TIFA inhibitor      gene     NCBI   \n",
       "1   56681  secretion associated Ras related GTPase 1A      gene     NCBI   \n",
       "2     NaN                                         NaN      gene     NCBI   \n",
       "3    3799                    kinesin family member 5B      gene     NCBI   \n",
       "4   22918                               CD93 molecule      gene     NCBI   \n",
       "\n",
       "  tail_id                         tail_name tail_type tail_ref predicate  \n",
       "0    7189  TNF receptor associated factor 6      gene     NCBI      nppi  \n",
       "1    4086              SMAD family member 1      gene     NCBI      nppi  \n",
       "2     NaN                               NaN      gene     NCBI      nppi  \n",
       "3   26128    kinesin family binding protein      gene     NCBI      nppi  \n",
       "4     712            complement C1q A chain      gene     NCBI      nppi  "
      ]
     },
     "execution_count": 9,
     "metadata": {},
     "output_type": "execute_result"
    }
   ],
   "source": [
    "df_nppi.head()"
   ]
  },
  {
   "cell_type": "code",
   "execution_count": 10,
   "metadata": {},
   "outputs": [
    {
     "data": {
      "text/plain": [
       "(6560, 9)"
      ]
     },
     "execution_count": 10,
     "metadata": {},
     "output_type": "execute_result"
    }
   ],
   "source": [
    "df_nppi.shape"
   ]
  },
  {
   "cell_type": "code",
   "execution_count": 11,
   "metadata": {},
   "outputs": [
    {
     "data": {
      "text/plain": [
       "head_id      4756\n",
       "head_name    4756\n",
       "head_type       0\n",
       "head_ref        0\n",
       "tail_id      4720\n",
       "tail_name    4720\n",
       "tail_type       0\n",
       "tail_ref        0\n",
       "predicate       0\n",
       "dtype: int64"
      ]
     },
     "execution_count": 11,
     "metadata": {},
     "output_type": "execute_result"
    }
   ],
   "source": [
    "df_nppi.isna().sum()"
   ]
  },
  {
   "cell_type": "code",
   "execution_count": 12,
   "metadata": {},
   "outputs": [],
   "source": [
    "df_nppi.dropna(inplace=True)"
   ]
  },
  {
   "cell_type": "code",
   "execution_count": 13,
   "metadata": {},
   "outputs": [
    {
     "data": {
      "text/plain": [
       "head_id      0\n",
       "head_name    0\n",
       "head_type    0\n",
       "head_ref     0\n",
       "tail_id      0\n",
       "tail_name    0\n",
       "tail_type    0\n",
       "tail_ref     0\n",
       "predicate    0\n",
       "dtype: int64"
      ]
     },
     "execution_count": 13,
     "metadata": {},
     "output_type": "execute_result"
    }
   ],
   "source": [
    "df_nppi.isna().sum()"
   ]
  },
  {
   "cell_type": "code",
   "execution_count": 14,
   "metadata": {},
   "outputs": [],
   "source": [
    "df_nppi.drop_duplicates(inplace=True)"
   ]
  },
  {
   "cell_type": "code",
   "execution_count": 15,
   "metadata": {},
   "outputs": [
    {
     "data": {
      "text/plain": [
       "(1534, 9)"
      ]
     },
     "execution_count": 15,
     "metadata": {},
     "output_type": "execute_result"
    }
   ],
   "source": [
    "df_nppi.shape"
   ]
  },
  {
   "cell_type": "code",
   "execution_count": 16,
   "metadata": {},
   "outputs": [],
   "source": [
    "#df_nppi = df_nppi.applymap(lambda x: str(x).strip())"
   ]
  },
  {
   "cell_type": "code",
   "execution_count": 17,
   "metadata": {},
   "outputs": [],
   "source": [
    "#df_nppi.dtypes"
   ]
  },
  {
   "cell_type": "code",
   "execution_count": null,
   "metadata": {},
   "outputs": [],
   "source": [
    "df_nppi.to_csv(r\"...path_to\\RDsqr-KG\\KG_datasets\\nppi.csv\",index=False)"
   ]
  },
  {
   "cell_type": "code",
   "execution_count": null,
   "metadata": {},
   "outputs": [],
   "source": []
  }
 ],
 "metadata": {
  "kernelspec": {
   "display_name": "base",
   "language": "python",
   "name": "python3"
  },
  "language_info": {
   "codemirror_mode": {
    "name": "ipython",
    "version": 3
   },
   "file_extension": ".py",
   "mimetype": "text/x-python",
   "name": "python",
   "nbconvert_exporter": "python",
   "pygments_lexer": "ipython3",
   "version": "3.12.4"
  }
 },
 "nbformat": 4,
 "nbformat_minor": 2
}
